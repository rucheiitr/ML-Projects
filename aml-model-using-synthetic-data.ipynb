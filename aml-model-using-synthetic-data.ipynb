{
 "cells": [
  {
   "cell_type": "markdown",
   "id": "f85f32a3",
   "metadata": {
    "papermill": {
     "duration": 0.012414,
     "end_time": "2024-04-05T01:07:07.747936",
     "exception": false,
     "start_time": "2024-04-05T01:07:07.735522",
     "status": "completed"
    },
    "tags": []
   },
   "source": [
    "# Problem Statement: \n",
    "The dataset and the analysis is based on the paper [https://www.nature.com/articles/s41597-023-02569-2#Sec8]. The paper provides the details about the creating of the synthetic dataset for Anti- Money Laundering (AML). This notebook provides 3 different Machine Learning techniques to predict if the particular alert is a suspicious activity or not.\n",
    "\n",
    "# Datasets Description: \n",
    "There are two different tables provided in the paper betwee 2020 and 2021. (1) Transcations table provides the information about all the transactions which happened during this period. (2) Alert table provides the informations about the alerts classifying as Report vs Dismiss. Report can be interpreted as Suspicious with further actions needed while Dismiss implies nothing needs to be done"
   ]
  },
  {
   "cell_type": "markdown",
   "id": "763d90d5",
   "metadata": {
    "papermill": {
     "duration": 0.010263,
     "end_time": "2024-04-05T01:07:07.769099",
     "exception": false,
     "start_time": "2024-04-05T01:07:07.758836",
     "status": "completed"
    },
    "tags": []
   },
   "source": [
    "# Notebook Description\n",
    "\n",
    "This notebook provides the various steps taken to develop the model.\n",
    "* Importing the Libraries\n",
    "* Feature Engineering\n",
    "* Data Pre-processing\n",
    "* Hyperparameter Tunning - LGBM\n",
    "* Hyperparameter Tunning - Histogram Based Gradient Boosting\n",
    "* Hyperparameter Tunning - Logistic Regression\n",
    "* Final Model \n",
    "\n",
    "    \n"
   ]
  },
  {
   "cell_type": "markdown",
   "id": "27848200",
   "metadata": {
    "papermill": {
     "duration": 0.010189,
     "end_time": "2024-04-05T01:07:07.789699",
     "exception": false,
     "start_time": "2024-04-05T01:07:07.779510",
     "status": "completed"
    },
    "tags": []
   },
   "source": [
    "# Importing the libraries"
   ]
  },
  {
   "cell_type": "code",
   "execution_count": 1,
   "id": "1ed2b86f",
   "metadata": {
    "execution": {
     "iopub.execute_input": "2024-04-05T01:07:07.813548Z",
     "iopub.status.busy": "2024-04-05T01:07:07.812990Z",
     "iopub.status.idle": "2024-04-05T01:07:12.750723Z",
     "shell.execute_reply": "2024-04-05T01:07:12.749583Z"
    },
    "papermill": {
     "duration": 4.953156,
     "end_time": "2024-04-05T01:07:12.753279",
     "exception": false,
     "start_time": "2024-04-05T01:07:07.800123",
     "status": "completed"
    },
    "tags": []
   },
   "outputs": [],
   "source": [
    "import polars as pl\n",
    "import numpy as np\n",
    "import pandas as pd\n",
    "import matplotlib.pyplot as plt\n",
    "import seaborn as sns\n",
    "import gc\n",
    "from scipy import stats\n",
    "from polars import col\n",
    "from functools import reduce \n",
    "from sklearn.preprocessing  import LabelEncoder,StandardScaler, RobustScaler\n",
    "from lightgbm import LGBMClassifier\n",
    "from sklearn.metrics import f1_score, precision_score ,recall_score\n",
    "from sklearn.metrics import confusion_matrix, classification_report, accuracy_score\n",
    "from sklearn.metrics import roc_auc_score\n",
    "from sklearn.linear_model import LogisticRegression\n",
    "import optuna\n",
    "from optuna.visualization import plot_optimization_history\n",
    "from optuna.visualization import plot_parallel_coordinate\n",
    "from optuna.visualization import plot_param_importances\n",
    "from optuna.visualization import plot_edf\n",
    "from sklearn.ensemble import HistGradientBoostingClassifier\n",
    "from sklearn.ensemble import VotingClassifier\n",
    "from sklearn.pipeline import Pipeline\n",
    "import matplotlib.pyplot as plt\n",
    "import seaborn as sns\n",
    "import warnings\n",
    "pd.set_option(\"display.max_columns\", None)\n",
    "pd.set_option(\"display.width\", 700)\n",
    "warnings.filterwarnings(\"ignore\")"
   ]
  },
  {
   "cell_type": "markdown",
   "id": "cf0017bc",
   "metadata": {
    "papermill": {
     "duration": 0.010916,
     "end_time": "2024-04-05T01:07:12.776010",
     "exception": false,
     "start_time": "2024-04-05T01:07:12.765094",
     "status": "completed"
    },
    "tags": []
   },
   "source": [
    "Reading the data and combining the dataset"
   ]
  },
  {
   "cell_type": "code",
   "execution_count": 2,
   "id": "a2fa9e4f",
   "metadata": {
    "execution": {
     "iopub.execute_input": "2024-04-05T01:07:12.799158Z",
     "iopub.status.busy": "2024-04-05T01:07:12.798319Z",
     "iopub.status.idle": "2024-04-05T01:07:17.104557Z",
     "shell.execute_reply": "2024-04-05T01:07:17.103684Z"
    },
    "papermill": {
     "duration": 4.320613,
     "end_time": "2024-04-05T01:07:17.107134",
     "exception": false,
     "start_time": "2024-04-05T01:07:12.786521",
     "status": "completed"
    },
    "tags": []
   },
   "outputs": [],
   "source": [
    "df_transactions= pl.read_csv(\"/kaggle/input/aml-synthetic-dataset-synthaml/synthetic_transactions.csv\")\n",
    "df_alerts= pl.read_csv(\"/kaggle/input/aml-synthetic-dataset-synthaml/synthetic_alerts.csv\")"
   ]
  },
  {
   "cell_type": "code",
   "execution_count": 3,
   "id": "6dc50107",
   "metadata": {
    "execution": {
     "iopub.execute_input": "2024-04-05T01:07:17.130491Z",
     "iopub.status.busy": "2024-04-05T01:07:17.129813Z",
     "iopub.status.idle": "2024-04-05T01:07:18.619076Z",
     "shell.execute_reply": "2024-04-05T01:07:18.618074Z"
    },
    "papermill": {
     "duration": 1.503548,
     "end_time": "2024-04-05T01:07:18.621575",
     "exception": false,
     "start_time": "2024-04-05T01:07:17.118027",
     "status": "completed"
    },
    "tags": []
   },
   "outputs": [],
   "source": [
    "df_combined_data=df_alerts.join(df_transactions, how=\"inner\", on=\"AlertID\")"
   ]
  },
  {
   "cell_type": "code",
   "execution_count": 4,
   "id": "30aaf8c1",
   "metadata": {
    "execution": {
     "iopub.execute_input": "2024-04-05T01:07:18.644676Z",
     "iopub.status.busy": "2024-04-05T01:07:18.643932Z",
     "iopub.status.idle": "2024-04-05T01:07:18.864656Z",
     "shell.execute_reply": "2024-04-05T01:07:18.863624Z"
    },
    "papermill": {
     "duration": 0.234644,
     "end_time": "2024-04-05T01:07:18.867008",
     "exception": false,
     "start_time": "2024-04-05T01:07:18.632364",
     "status": "completed"
    },
    "tags": []
   },
   "outputs": [
    {
     "data": {
      "text/plain": [
       "0"
      ]
     },
     "execution_count": 4,
     "metadata": {},
     "output_type": "execute_result"
    }
   ],
   "source": [
    "#Due to limited memory, we will delete the temporary dataset to free up the memory\n",
    "del df_transactions\n",
    "gc.collect()"
   ]
  },
  {
   "cell_type": "code",
   "execution_count": 5,
   "id": "3a3388ce",
   "metadata": {
    "execution": {
     "iopub.execute_input": "2024-04-05T01:07:18.890583Z",
     "iopub.status.busy": "2024-04-05T01:07:18.889570Z",
     "iopub.status.idle": "2024-04-05T01:07:18.904049Z",
     "shell.execute_reply": "2024-04-05T01:07:18.903103Z"
    },
    "papermill": {
     "duration": 0.028313,
     "end_time": "2024-04-05T01:07:18.906150",
     "exception": false,
     "start_time": "2024-04-05T01:07:18.877837",
     "status": "completed"
    },
    "tags": []
   },
   "outputs": [
    {
     "data": {
      "text/html": [
       "<div><style>\n",
       ".dataframe > thead > tr,\n",
       ".dataframe > tbody > tr {\n",
       "  text-align: right;\n",
       "  white-space: pre-wrap;\n",
       "}\n",
       "</style>\n",
       "<small>shape: (5, 7)</small><table border=\"1\" class=\"dataframe\"><thead><tr><th>AlertID</th><th>Date</th><th>Outcome</th><th>Timestamp</th><th>Entry</th><th>Type</th><th>Size</th></tr><tr><td>i64</td><td>str</td><td>str</td><td>str</td><td>str</td><td>str</td><td>f64</td></tr></thead><tbody><tr><td>1</td><td>&quot;2020-01-01&quot;</td><td>&quot;Report&quot;</td><td>&quot;2019-01-01 00:…</td><td>&quot;Credit&quot;</td><td>&quot;Wire&quot;</td><td>-0.438941</td></tr><tr><td>1</td><td>&quot;2020-01-01&quot;</td><td>&quot;Report&quot;</td><td>&quot;2019-01-01 00:…</td><td>&quot;Debit&quot;</td><td>&quot;Wire&quot;</td><td>-1.656562</td></tr><tr><td>1</td><td>&quot;2020-01-01&quot;</td><td>&quot;Report&quot;</td><td>&quot;2019-01-01 00:…</td><td>&quot;Credit&quot;</td><td>&quot;Card&quot;</td><td>-0.749267</td></tr><tr><td>1</td><td>&quot;2020-01-01&quot;</td><td>&quot;Report&quot;</td><td>&quot;2019-01-01 00:…</td><td>&quot;Debit&quot;</td><td>&quot;Wire&quot;</td><td>0.006226</td></tr><tr><td>1</td><td>&quot;2020-01-01&quot;</td><td>&quot;Report&quot;</td><td>&quot;2019-01-01 00:…</td><td>&quot;Credit&quot;</td><td>&quot;Card&quot;</td><td>-1.185568</td></tr></tbody></table></div>"
      ],
      "text/plain": [
       "shape: (5, 7)\n",
       "┌─────────┬────────────┬─────────┬─────────────────────┬────────┬──────┬───────────┐\n",
       "│ AlertID ┆ Date       ┆ Outcome ┆ Timestamp           ┆ Entry  ┆ Type ┆ Size      │\n",
       "│ ---     ┆ ---        ┆ ---     ┆ ---                 ┆ ---    ┆ ---  ┆ ---       │\n",
       "│ i64     ┆ str        ┆ str     ┆ str                 ┆ str    ┆ str  ┆ f64       │\n",
       "╞═════════╪════════════╪═════════╪═════════════════════╪════════╪══════╪═══════════╡\n",
       "│ 1       ┆ 2020-01-01 ┆ Report  ┆ 2019-01-01 00:00:41 ┆ Credit ┆ Wire ┆ -0.438941 │\n",
       "│ 1       ┆ 2020-01-01 ┆ Report  ┆ 2019-01-01 00:00:41 ┆ Debit  ┆ Wire ┆ -1.656562 │\n",
       "│ 1       ┆ 2020-01-01 ┆ Report  ┆ 2019-01-01 00:00:44 ┆ Credit ┆ Card ┆ -0.749267 │\n",
       "│ 1       ┆ 2020-01-01 ┆ Report  ┆ 2019-01-01 00:00:45 ┆ Debit  ┆ Wire ┆ 0.006226  │\n",
       "│ 1       ┆ 2020-01-01 ┆ Report  ┆ 2019-01-01 00:00:50 ┆ Credit ┆ Card ┆ -1.185568 │\n",
       "└─────────┴────────────┴─────────┴─────────────────────┴────────┴──────┴───────────┘"
      ]
     },
     "execution_count": 5,
     "metadata": {},
     "output_type": "execute_result"
    }
   ],
   "source": [
    "df_combined_data.head(5)"
   ]
  },
  {
   "cell_type": "code",
   "execution_count": 6,
   "id": "260e86b6",
   "metadata": {
    "execution": {
     "iopub.execute_input": "2024-04-05T01:07:18.930389Z",
     "iopub.status.busy": "2024-04-05T01:07:18.929567Z",
     "iopub.status.idle": "2024-04-05T01:07:18.940664Z",
     "shell.execute_reply": "2024-04-05T01:07:18.939955Z"
    },
    "papermill": {
     "duration": 0.024916,
     "end_time": "2024-04-05T01:07:18.942448",
     "exception": false,
     "start_time": "2024-04-05T01:07:18.917532",
     "status": "completed"
    },
    "tags": []
   },
   "outputs": [],
   "source": [
    "# This function is used to reducce the memory usage in the data\n",
    "def reduce_mem_usage(df):\n",
    "    \"\"\" iterate through all the columns of a dataframe and modify the data type\n",
    "        to reduce memory usage.        \n",
    "    \"\"\"\n",
    "    start_mem = df.memory_usage().sum() / 1024**2\n",
    "    print('Memory usage of dataframe is {:.2f} MB'.format(start_mem))\n",
    "    \n",
    "    for col in df.columns:\n",
    "        col_type = df[col].dtype\n",
    "        if str(col_type)==\"category\":\n",
    "            continue\n",
    "        \n",
    "        if col_type != object:\n",
    "            c_min = df[col].min()\n",
    "            c_max = df[col].max()\n",
    "            if str(col_type)[:3] == 'int':\n",
    "                if c_min > np.iinfo(np.int8).min and c_max < np.iinfo(np.int8).max:\n",
    "                    df[col] = df[col].astype(np.int8)\n",
    "                elif c_min > np.iinfo(np.int16).min and c_max < np.iinfo(np.int16).max:\n",
    "                    df[col] = df[col].astype(np.int16)\n",
    "                elif c_min > np.iinfo(np.int32).min and c_max < np.iinfo(np.int32).max:\n",
    "                    df[col] = df[col].astype(np.int32)\n",
    "                elif c_min > np.iinfo(np.int64).min and c_max < np.iinfo(np.int64).max:\n",
    "                    df[col] = df[col].astype(np.int64)  \n",
    "            elif str(col_type)[:4] == 'float':\n",
    "                if c_min > np.finfo(np.float16).min and c_max < np.finfo(np.float16).max:\n",
    "                    df[col] = df[col].astype(np.float16)\n",
    "                elif c_min > np.finfo(np.float32).min and c_max < np.finfo(np.float32).max:\n",
    "                    df[col] = df[col].astype(np.float32)\n",
    "                else:\n",
    "                    df[col] = df[col].astype(np.float64)\n",
    "        else:\n",
    "            continue\n",
    "    end_mem = df.memory_usage().sum() / 1024**2\n",
    "    print('Memory usage after optimization is: {:.2f} MB'.format(end_mem))\n",
    "    print('Decreased by {:.1f}%'.format(100 * (start_mem - end_mem) / start_mem))\n",
    "    \n",
    "    return df"
   ]
  },
  {
   "cell_type": "code",
   "execution_count": 7,
   "id": "bcb15bcf",
   "metadata": {
    "execution": {
     "iopub.execute_input": "2024-04-05T01:07:18.965822Z",
     "iopub.status.busy": "2024-04-05T01:07:18.965207Z",
     "iopub.status.idle": "2024-04-05T01:07:29.964286Z",
     "shell.execute_reply": "2024-04-05T01:07:29.963282Z"
    },
    "papermill": {
     "duration": 11.013184,
     "end_time": "2024-04-05T01:07:29.966568",
     "exception": false,
     "start_time": "2024-04-05T01:07:18.953384",
     "status": "completed"
    },
    "tags": []
   },
   "outputs": [
    {
     "data": {
      "text/plain": [
       "0"
      ]
     },
     "execution_count": 7,
     "metadata": {},
     "output_type": "execute_result"
    }
   ],
   "source": [
    "#Convert the data from Polars to Pandas for easy plotting\n",
    "df_combined_data_pd=df_combined_data.to_pandas()\n",
    "del df_combined_data\n",
    "gc.collect()"
   ]
  },
  {
   "cell_type": "code",
   "execution_count": 8,
   "id": "0c2474b7",
   "metadata": {
    "execution": {
     "iopub.execute_input": "2024-04-05T01:07:29.990523Z",
     "iopub.status.busy": "2024-04-05T01:07:29.990166Z",
     "iopub.status.idle": "2024-04-05T01:07:30.146607Z",
     "shell.execute_reply": "2024-04-05T01:07:30.145379Z"
    },
    "papermill": {
     "duration": 0.171323,
     "end_time": "2024-04-05T01:07:30.149235",
     "exception": false,
     "start_time": "2024-04-05T01:07:29.977912",
     "status": "completed"
    },
    "tags": []
   },
   "outputs": [
    {
     "name": "stdout",
     "output_type": "stream",
     "text": [
      "Memory usage of dataframe is 866.93 MB\n",
      "Memory usage after optimization is: 774.05 MB\n",
      "Decreased by 10.7%\n"
     ]
    }
   ],
   "source": [
    "#Reduce the memory of the dataframe\n",
    "df_combined_data_pd= reduce_mem_usage(df_combined_data_pd)"
   ]
  },
  {
   "cell_type": "code",
   "execution_count": 9,
   "id": "7518b146",
   "metadata": {
    "execution": {
     "iopub.execute_input": "2024-04-05T01:07:30.174985Z",
     "iopub.status.busy": "2024-04-05T01:07:30.174396Z",
     "iopub.status.idle": "2024-04-05T01:07:32.744587Z",
     "shell.execute_reply": "2024-04-05T01:07:32.743739Z"
    },
    "papermill": {
     "duration": 2.5857,
     "end_time": "2024-04-05T01:07:32.746919",
     "exception": false,
     "start_time": "2024-04-05T01:07:30.161219",
     "status": "completed"
    },
    "tags": []
   },
   "outputs": [],
   "source": [
    "#As suggsted in the paper, convert the data from daily to Quarterly\n",
    "df_combined_data_pd[\"Alert_Quarter\"]= pd.PeriodIndex(pd.to_datetime(df_combined_data_pd.Date), freq='Q')"
   ]
  },
  {
   "cell_type": "markdown",
   "id": "b5cd6651",
   "metadata": {
    "papermill": {
     "duration": 0.010885,
     "end_time": "2024-04-05T01:07:32.769232",
     "exception": false,
     "start_time": "2024-04-05T01:07:32.758347",
     "status": "completed"
    },
    "tags": []
   },
   "source": [
    "# Exploraatory Data Analysis (EDA)"
   ]
  },
  {
   "cell_type": "code",
   "execution_count": 10,
   "id": "71542a37",
   "metadata": {
    "execution": {
     "iopub.execute_input": "2024-04-05T01:07:32.793988Z",
     "iopub.status.busy": "2024-04-05T01:07:32.793615Z",
     "iopub.status.idle": "2024-04-05T01:07:33.625781Z",
     "shell.execute_reply": "2024-04-05T01:07:33.624974Z"
    },
    "papermill": {
     "duration": 0.847231,
     "end_time": "2024-04-05T01:07:33.627460",
     "exception": false,
     "start_time": "2024-04-05T01:07:32.780229",
     "status": "completed"
    },
    "tags": []
   },
   "outputs": [
    {
     "data": {
      "image/png": "[encoded data removed]",
      "text/plain": [
       "<Figure size 640x480 with 1 Axes>"
      ]
     },
     "metadata": {},
     "output_type": "display_data"
    },
    {
     "data": {
      "text/plain": [
       "4380"
      ]
     },
     "execution_count": 10,
     "metadata": {},
     "output_type": "execute_result"
    }
   ],
   "source": [
    "df_gb = df_combined_data_pd.groupby(['Alert_Quarter'])['AlertID'].count().to_frame().reset_index()\n",
    "df_gb[\"Fraction_Alert\"]= 100* df_gb[\"AlertID\"]/np.sum(df_gb[\"AlertID\"])\n",
    "sns.set(font_scale=1.15)\n",
    "sns.set(style=\"whitegrid\", color_codes=True)\n",
    "sns.barplot(df_gb, x=\"Alert_Quarter\", y=\"Fraction_Alert\",color='steelblue')\n",
    "plt.xlabel('Alert Quarter', fontsize=12);\n",
    "plt.ylabel('% Alerts', fontsize=12);\n",
    "plt.title('Distribution of Alerts Per Quarter', fontsize=14, weight='bold')\n",
    "plt.tight_layout()\n",
    "plt.show()\n",
    "\n",
    "del df_gb\n",
    "gc.collect()"
   ]
  },
  {
   "cell_type": "markdown",
   "id": "468d2261",
   "metadata": {
    "papermill": {
     "duration": 0.011458,
     "end_time": "2024-04-05T01:07:33.650747",
     "exception": false,
     "start_time": "2024-04-05T01:07:33.639289",
     "status": "completed"
    },
    "tags": []
   },
   "source": [
    "Key takeaways: There are more alert during 2020Q3 -2021Q1 compared to rest of the quarters"
   ]
  },
  {
   "cell_type": "code",
   "execution_count": 11,
   "id": "a4c85430",
   "metadata": {
    "execution": {
     "iopub.execute_input": "2024-04-05T01:07:33.675938Z",
     "iopub.status.busy": "2024-04-05T01:07:33.675224Z",
     "iopub.status.idle": "2024-04-05T01:07:37.136286Z",
     "shell.execute_reply": "2024-04-05T01:07:37.135352Z"
    },
    "papermill": {
     "duration": 3.475993,
     "end_time": "2024-04-05T01:07:37.138328",
     "exception": false,
     "start_time": "2024-04-05T01:07:33.662335",
     "status": "completed"
    },
    "tags": []
   },
   "outputs": [
    {
     "data": {
      "image/png": "[encoded data removed]",
      "text/plain": [
       "<Figure size 640x480 with 1 Axes>"
      ]
     },
     "metadata": {},
     "output_type": "display_data"
    },
    {
     "data": {
      "text/plain": [
       "4438"
      ]
     },
     "execution_count": 11,
     "metadata": {},
     "output_type": "execute_result"
    }
   ],
   "source": [
    "df_gb=df_combined_data_pd.groupby([\"Entry\",\"Type\"])[\"Size\"].count().to_frame().reset_index()\n",
    "df_gb[\"Fraction_Transaction\"]= 100*df_gb[\"Size\"]/np.sum(df_gb[\"Size\"])\n",
    "sns.barplot(df_gb, x=\"Type\", y=\"Fraction_Transaction\", hue=\"Entry\")\n",
    "plt.xlabel('Transcation Method', fontsize=12);\n",
    "plt.ylabel('% Transactions', fontsize=12);\n",
    "plt.title('Distribution of Transactions by Entry and Method', fontsize=14, weight='bold')\n",
    "plt.tight_layout()\n",
    "plt.show()\n",
    "del df_gb\n",
    "gc.collect()"
   ]
  },
  {
   "cell_type": "markdown",
   "id": "2161f1a4",
   "metadata": {
    "papermill": {
     "duration": 0.013068,
     "end_time": "2024-04-05T01:07:37.164119",
     "exception": false,
     "start_time": "2024-04-05T01:07:37.151051",
     "status": "completed"
    },
    "tags": []
   },
   "source": [
    "Key Takeaways: Most of the transactions happened via Credit Type. In terms of transaction method, most common is Card and Wire "
   ]
  },
  {
   "cell_type": "code",
   "execution_count": 12,
   "id": "9f68fb58",
   "metadata": {
    "execution": {
     "iopub.execute_input": "2024-04-05T01:07:37.191485Z",
     "iopub.status.busy": "2024-04-05T01:07:37.190493Z",
     "iopub.status.idle": "2024-04-05T01:08:30.254502Z",
     "shell.execute_reply": "2024-04-05T01:08:30.253378Z"
    },
    "papermill": {
     "duration": 53.094375,
     "end_time": "2024-04-05T01:08:30.271054",
     "exception": false,
     "start_time": "2024-04-05T01:07:37.176679",
     "status": "completed"
    },
    "tags": []
   },
   "outputs": [
    {
     "data": {
      "image/png": "[encoded data removed]",
      "text/plain": [
       "<Figure size 640x480 with 1 Axes>"
      ]
     },
     "metadata": {},
     "output_type": "display_data"
    }
   ],
   "source": [
    "sns.violinplot(x=\"Size\",data=df_combined_data_pd, y=\"Type\", hue=\"Entry\")\n",
    "plt.xlabel('Transaction Size (Log)', fontsize=12);\n",
    "plt.ylabel('Transcation Method', fontsize=12);\n",
    "plt.title('Distribution of Transactions by Entry and Method', fontsize=14, weight='bold')\n",
    "plt.tight_layout()\n",
    "plt.show()"
   ]
  },
  {
   "cell_type": "markdown",
   "id": "f9d7bd04",
   "metadata": {
    "papermill": {
     "duration": 0.013716,
     "end_time": "2024-04-05T01:08:30.298577",
     "exception": false,
     "start_time": "2024-04-05T01:08:30.284861",
     "status": "completed"
    },
    "tags": []
   },
   "source": [
    "Key Takeaways: Distribution for each Transaction method is very similar between Credit and Debit Entry. However, the data is also skewed to the right."
   ]
  },
  {
   "cell_type": "markdown",
   "id": "a8c0778d",
   "metadata": {
    "papermill": {
     "duration": 0.013573,
     "end_time": "2024-04-05T01:08:30.325961",
     "exception": false,
     "start_time": "2024-04-05T01:08:30.312388",
     "status": "completed"
    },
    "tags": []
   },
   "source": [
    "Split the data in to training and test data.Timestamp before 2020 is used for training while the 2021 period is used for testing This is done as suggested in the paper"
   ]
  },
  {
   "cell_type": "code",
   "execution_count": 13,
   "id": "5a0df601",
   "metadata": {
    "execution": {
     "iopub.execute_input": "2024-04-05T01:08:30.409100Z",
     "iopub.status.busy": "2024-04-05T01:08:30.407993Z",
     "iopub.status.idle": "2024-04-05T01:08:41.887312Z",
     "shell.execute_reply": "2024-04-05T01:08:41.886351Z"
    },
    "papermill": {
     "duration": 11.550088,
     "end_time": "2024-04-05T01:08:41.889784",
     "exception": false,
     "start_time": "2024-04-05T01:08:30.339696",
     "status": "completed"
    },
    "tags": []
   },
   "outputs": [],
   "source": [
    "df_train= df_combined_data_pd[pd.to_datetime(df_combined_data_pd[\"Timestamp\"]).dt.year == 2020]\n",
    "df_test=df_combined_data_pd[pd.to_datetime(df_combined_data_pd[\"Timestamp\"]).dt.year != 2020]"
   ]
  },
  {
   "cell_type": "code",
   "execution_count": 14,
   "id": "f34dba26",
   "metadata": {
    "execution": {
     "iopub.execute_input": "2024-04-05T01:08:41.918926Z",
     "iopub.status.busy": "2024-04-05T01:08:41.918566Z",
     "iopub.status.idle": "2024-04-05T01:08:43.073638Z",
     "shell.execute_reply": "2024-04-05T01:08:43.072603Z"
    },
    "papermill": {
     "duration": 1.172009,
     "end_time": "2024-04-05T01:08:43.075632",
     "exception": false,
     "start_time": "2024-04-05T01:08:41.903623",
     "status": "completed"
    },
    "tags": []
   },
   "outputs": [
    {
     "data": {
      "image/png": "[encoded data removed]",
      "text/plain": [
       "<Figure size 640x480 with 1 Axes>"
      ]
     },
     "metadata": {},
     "output_type": "display_data"
    },
    {
     "data": {
      "text/plain": [
       "3173"
      ]
     },
     "execution_count": 14,
     "metadata": {},
     "output_type": "execute_result"
    }
   ],
   "source": [
    "df_gb = df_train.groupby(['Outcome'])['AlertID'].count().to_frame().reset_index()\n",
    "df_gb[\"Fraction_Alert\"]= 100* df_gb[\"AlertID\"]/np.sum(df_gb[\"AlertID\"])\n",
    "sns.barplot(df_gb, x=\"Outcome\", y=\"Fraction_Alert\")\n",
    "plt.xlabel('Outcome', fontsize=12);\n",
    "plt.ylabel('% Alerts', fontsize=12);\n",
    "plt.title('Distribution of Alerts with respect to the Outcome in the Training Data', fontsize=14, weight='bold')\n",
    "plt.tight_layout()\n",
    "plt.show()\n",
    "del df_gb\n",
    "gc.collect()"
   ]
  },
  {
   "cell_type": "code",
   "execution_count": 15,
   "id": "2ec60d6e",
   "metadata": {
    "execution": {
     "iopub.execute_input": "2024-04-05T01:08:43.106063Z",
     "iopub.status.busy": "2024-04-05T01:08:43.105460Z",
     "iopub.status.idle": "2024-04-05T01:08:44.135637Z",
     "shell.execute_reply": "2024-04-05T01:08:44.134505Z"
    },
    "papermill": {
     "duration": 1.048186,
     "end_time": "2024-04-05T01:08:44.138226",
     "exception": false,
     "start_time": "2024-04-05T01:08:43.090040",
     "status": "completed"
    },
    "tags": []
   },
   "outputs": [
    {
     "data": {
      "image/png": "[encoded data removed]",
      "text/plain": [
       "<Figure size 640x480 with 1 Axes>"
      ]
     },
     "metadata": {},
     "output_type": "display_data"
    },
    {
     "data": {
      "text/plain": [
       "3419"
      ]
     },
     "execution_count": 15,
     "metadata": {},
     "output_type": "execute_result"
    }
   ],
   "source": [
    "df_gb = df_test.groupby(['Outcome'])['AlertID'].count().to_frame().reset_index()\n",
    "df_gb[\"Fraction_Alert\"]= 100*df_gb[\"AlertID\"]/np.sum(df_gb[\"AlertID\"])\n",
    "sns.barplot(df_gb, x=\"Outcome\", y=\"Fraction_Alert\")\n",
    "sns.barplot(df_gb, x=\"Outcome\", y=\"Fraction_Alert\")\n",
    "plt.xlabel('Outcome', fontsize=12);\n",
    "plt.ylabel('% Alerts', fontsize=12);\n",
    "plt.title('Distribution of Alerts with respect to the Outcome in the Test Data', fontsize=14, weight='bold')\n",
    "plt.tight_layout()\n",
    "plt.show()\n",
    "del df_gb\n",
    "gc.collect()"
   ]
  },
  {
   "cell_type": "markdown",
   "id": "9ac99276",
   "metadata": {
    "papermill": {
     "duration": 0.015433,
     "end_time": "2024-04-05T01:08:44.168631",
     "exception": false,
     "start_time": "2024-04-05T01:08:44.153198",
     "status": "completed"
    },
    "tags": []
   },
   "source": [
    "Key Takeaways\n",
    "* The data is imbalanced \n",
    "* Distribution is same in the test and training data"
   ]
  },
  {
   "cell_type": "markdown",
   "id": "b7ab29df",
   "metadata": {
    "papermill": {
     "duration": 0.014663,
     "end_time": "2024-04-05T01:08:44.199365",
     "exception": false,
     "start_time": "2024-04-05T01:08:44.184702",
     "status": "completed"
    },
    "tags": []
   },
   "source": [
    "# Feature Engineering"
   ]
  },
  {
   "cell_type": "code",
   "execution_count": 16,
   "id": "178255e2",
   "metadata": {
    "execution": {
     "iopub.execute_input": "2024-04-05T01:08:44.230600Z",
     "iopub.status.busy": "2024-04-05T01:08:44.230027Z",
     "iopub.status.idle": "2024-04-05T01:08:44.239252Z",
     "shell.execute_reply": "2024-04-05T01:08:44.238522Z"
    },
    "papermill": {
     "duration": 0.027227,
     "end_time": "2024-04-05T01:08:44.241199",
     "exception": false,
     "start_time": "2024-04-05T01:08:44.213972",
     "status": "completed"
    },
    "tags": []
   },
   "outputs": [],
   "source": [
    "#These functions are used to create several features as suggested in the paper. The missing value treatment is also done as suggested in the paper\n",
    "def create_feature(df,ft_type, ft_miss):\n",
    "    table =pd.pivot_table(df, index=[\"AlertID\"],columns=[\"Entry\",\"Type\"], values=[\"Size\"], aggfunc={'Size': [ft_type]}).reset_index()\n",
    "    cols= table.columns.to_list()\n",
    "    new_cols=[]\n",
    "    for c in cols:\n",
    "        new_cols.append('_'.join(c))\n",
    "    \n",
    "    table.columns= new_cols\n",
    "    table= table.fillna(ft_miss)\n",
    "    return table \n",
    "\n",
    "def calculate_new_features(df):\n",
    "    table_max= create_feature(df, np.max, -3)\n",
    "    table_min= create_feature(df, np.min, -3)\n",
    "    table_mean=create_feature(df, np.mean, -3) \n",
    "    table_std=create_feature(df, np.std, -3) \n",
    "    table_median=create_feature(df, np.median, -3) \n",
    "    table_size=create_feature(df, np.size, 0) \n",
    "    table_sum=create_feature(df, np.sum, -3) \n",
    "    dfs=[table_max, table_min,table_mean,table_median, table_std,table_size, table_sum]\n",
    "\n",
    "    final_table = reduce(lambda left,right:pd.merge(left,right, on=[\"AlertID___\"], how=\"inner\"), dfs)\n",
    "    final_table= final_table.rename(columns={\"AlertID___\":\"AlertID\"})\n",
    "    final_table_v1= pd.merge(final_table,df_alerts.to_pandas()[[\"AlertID\",\"Outcome\"]], on=\"AlertID\", how=\"inner\")\n",
    "    return final_table_v1"
   ]
  },
  {
   "cell_type": "code",
   "execution_count": 17,
   "id": "78fd3534",
   "metadata": {
    "execution": {
     "iopub.execute_input": "2024-04-05T01:08:44.275660Z",
     "iopub.status.busy": "2024-04-05T01:08:44.274892Z",
     "iopub.status.idle": "2024-04-05T01:09:17.746901Z",
     "shell.execute_reply": "2024-04-05T01:09:17.745870Z"
    },
    "papermill": {
     "duration": 33.493293,
     "end_time": "2024-04-05T01:09:17.749327",
     "exception": false,
     "start_time": "2024-04-05T01:08:44.256034",
     "status": "completed"
    },
    "tags": []
   },
   "outputs": [],
   "source": [
    "df_train_final= calculate_new_features(df_train)\n",
    "df_test_final= calculate_new_features(df_test)"
   ]
  },
  {
   "cell_type": "markdown",
   "id": "4d288693",
   "metadata": {
    "papermill": {
     "duration": 0.014758,
     "end_time": "2024-04-05T01:09:17.779646",
     "exception": false,
     "start_time": "2024-04-05T01:09:17.764888",
     "status": "completed"
    },
    "tags": []
   },
   "source": [
    "# Data Pre-processing"
   ]
  },
  {
   "cell_type": "code",
   "execution_count": 18,
   "id": "1f3fd6b3",
   "metadata": {
    "execution": {
     "iopub.execute_input": "2024-04-05T01:09:17.811097Z",
     "iopub.status.busy": "2024-04-05T01:09:17.810727Z",
     "iopub.status.idle": "2024-04-05T01:09:17.852061Z",
     "shell.execute_reply": "2024-04-05T01:09:17.850986Z"
    },
    "papermill": {
     "duration": 0.060118,
     "end_time": "2024-04-05T01:09:17.854518",
     "exception": false,
     "start_time": "2024-04-05T01:09:17.794400",
     "status": "completed"
    },
    "tags": []
   },
   "outputs": [],
   "source": [
    "label_enc= LabelEncoder()\n",
    "df_train_final[\"Target\"] = label_enc.fit_transform(df_train_final[\"Outcome\"])\n",
    "df_test_final[\"Target\"] = label_enc.fit_transform(df_test_final[\"Outcome\"])\n",
    "\n",
    "\n",
    "X_train=df_train_final.copy()\n",
    "X_train=X_train.drop(columns = [\"Outcome\",\"Target\",\"AlertID\"])\n",
    "#X_train=X_train.drop(columns=cols_delete)\n",
    "y_train= df_train_final[\"Target\"]\n",
    "\n",
    "X_test= df_test_final.copy()\n",
    "X_test=X_test.drop(columns = [\"Outcome\",\"Target\",\"AlertID\"])\n",
    "#X_test=X_test.drop(columns=cols_delete)\n",
    "y_test= df_test_final[\"Target\"]\n",
    "\n",
    "#This is done to ensure that all the features have zero mean and unit variance\n",
    "scaler=StandardScaler()\n",
    "X_train_scaled= scaler.fit_transform(X_train)\n",
    "X_test_scaled= scaler.transform(X_test)"
   ]
  },
  {
   "cell_type": "markdown",
   "id": "dc774b99",
   "metadata": {
    "papermill": {
     "duration": 0.01464,
     "end_time": "2024-04-05T01:09:17.884448",
     "exception": false,
     "start_time": "2024-04-05T01:09:17.869808",
     "status": "completed"
    },
    "tags": []
   },
   "source": [
    "# Hyperparameter Tunning - LGBM"
   ]
  },
  {
   "cell_type": "code",
   "execution_count": 19,
   "id": "62554c5a",
   "metadata": {
    "execution": {
     "iopub.execute_input": "2024-04-05T01:09:17.916272Z",
     "iopub.status.busy": "2024-04-05T01:09:17.915922Z",
     "iopub.status.idle": "2024-04-05T01:09:17.922586Z",
     "shell.execute_reply": "2024-04-05T01:09:17.921688Z"
    },
    "papermill": {
     "duration": 0.024959,
     "end_time": "2024-04-05T01:09:17.924572",
     "exception": false,
     "start_time": "2024-04-05T01:09:17.899613",
     "status": "completed"
    },
    "tags": []
   },
   "outputs": [
    {
     "data": {
      "text/plain": [
       "'\\ndef objective(trial):\\n    #Define the hyperparameters for LGBM\\n    params = {\\n        \\'objective\\': \\'binary\\',\\n        \\'metric\\': \\'binary_logloss\\',\\n         \\'reg_alpha\\': trial.suggest_float(\\'reg_alpha\\', 1e-8, 1),\\n         \\'reg_lambda\\': trial.suggest_float(\\'reg_lambda\\', 1e-8, 1),\\n        \"num_leaves\": trial.suggest_int(\"num_leaves\", 2, 256),\\n        \\'n_estimators\\': trial.suggest_int(\\'n_estimators\\', 100, 1000, step=100),\\n        \\'learning_rate\\': trial.suggest_float(\\'learning_rate\\', 0.01, 0.3),\\n        \"feature_fraction\": trial.suggest_float(\"feature_fraction\", 0.4, 1.0),\\n        \"bagging_fraction\": trial.suggest_float(\"bagging_fraction\", 0.4, 1.0),\\n        \"bagging_freq\": trial.suggest_int(\"bagging_freq\", 1, 7),\\n        \"min_child_samples\": trial.suggest_int(\"min_child_samples\", 5, 100),\\n        \\'boosting\\': trial.suggest_categorical(\\'boosting\\', [\\'gbdt\\', \\'dart\\']),\\n        \"is_unbalance\" :\\'True\\',\\n        \"verbose\": -1,\\n        \"seed\": 450000,\\n    }\\n    #Create and train the model\\n    model=LGBMClassifier(**params)\\n    model.fit(X_train_scaled,y_train)\\n    \\n    #Evaluate the model\\n    y_pred= model.predict(X_test_scaled)\\n    try:\\n         accuracy=roc_auc_score(y_pred,y_test)\\n    except ValueError:\\n         accuracy=0.5  \\n    \\n    return accuracy\\n\\nstudy=optuna.create_study(direction=\\'maximize\\')\\nstudy.optimize(objective, n_trials=150)\\nprint(f\"Best Parameters: {study.best_params}\")    '"
      ]
     },
     "execution_count": 19,
     "metadata": {},
     "output_type": "execute_result"
    }
   ],
   "source": [
    "#We tried 4 different seeds using Optuna to determine the optimal hyperparameters for LGBM\n",
    "\"\"\"\n",
    "def objective(trial):\n",
    "    #Define the hyperparameters for LGBM\n",
    "    params = {\n",
    "        'objective': 'binary',\n",
    "        'metric': 'binary_logloss',\n",
    "         'reg_alpha': trial.suggest_float('reg_alpha', 1e-8, 1),\n",
    "         'reg_lambda': trial.suggest_float('reg_lambda', 1e-8, 1),\n",
    "        \"num_leaves\": trial.suggest_int(\"num_leaves\", 2, 256),\n",
    "        'n_estimators': trial.suggest_int('n_estimators', 100, 1000, step=100),\n",
    "        'learning_rate': trial.suggest_float('learning_rate', 0.01, 0.3),\n",
    "        \"feature_fraction\": trial.suggest_float(\"feature_fraction\", 0.4, 1.0),\n",
    "        \"bagging_fraction\": trial.suggest_float(\"bagging_fraction\", 0.4, 1.0),\n",
    "        \"bagging_freq\": trial.suggest_int(\"bagging_freq\", 1, 7),\n",
    "        \"min_child_samples\": trial.suggest_int(\"min_child_samples\", 5, 100),\n",
    "        'boosting': trial.suggest_categorical('boosting', ['gbdt', 'dart']),\n",
    "        \"is_unbalance\" :'True',\n",
    "        \"verbose\": -1,\n",
    "        \"seed\": 450000,\n",
    "    }\n",
    "    #Create and train the model\n",
    "    model=LGBMClassifier(**params)\n",
    "    model.fit(X_train_scaled,y_train)\n",
    "    \n",
    "    #Evaluate the model\n",
    "    y_pred= model.predict(X_test_scaled)\n",
    "    try:\n",
    "         accuracy=roc_auc_score(y_pred,y_test)\n",
    "    except ValueError:\n",
    "         accuracy=0.5  \n",
    "    \n",
    "    return accuracy\n",
    "\n",
    "study=optuna.create_study(direction='maximize')\n",
    "study.optimize(objective, n_trials=150)\n",
    "print(f\"Best Parameters: {study.best_params}\")    \"\"\""
   ]
  },
  {
   "cell_type": "code",
   "execution_count": 20,
   "id": "0e061627",
   "metadata": {
    "execution": {
     "iopub.execute_input": "2024-04-05T01:09:17.955657Z",
     "iopub.status.busy": "2024-04-05T01:09:17.955325Z",
     "iopub.status.idle": "2024-04-05T01:09:31.212233Z",
     "shell.execute_reply": "2024-04-05T01:09:31.211202Z"
    },
    "papermill": {
     "duration": 13.275012,
     "end_time": "2024-04-05T01:09:31.214413",
     "exception": false,
     "start_time": "2024-04-05T01:09:17.939401",
     "status": "completed"
    },
    "tags": []
   },
   "outputs": [
    {
     "name": "stdout",
     "output_type": "stream",
     "text": [
      "[LightGBM] [Warning] feature_fraction is set=0.65109907985982, colsample_bytree=1.0 will be ignored. Current value: feature_fraction=0.65109907985982\n",
      "[LightGBM] [Warning] boosting is set=dart, boosting_type=gbdt will be ignored. Current value: boosting=dart\n",
      "[LightGBM] [Warning] bagging_fraction is set=0.781455387528108, subsample=1.0 will be ignored. Current value: bagging_fraction=0.781455387528108\n",
      "[LightGBM] [Warning] bagging_freq is set=1, subsample_freq=0 will be ignored. Current value: bagging_freq=1\n",
      "[LightGBM] [Warning] feature_fraction is set=0.65109907985982, colsample_bytree=1.0 will be ignored. Current value: feature_fraction=0.65109907985982\n",
      "[LightGBM] [Warning] boosting is set=dart, boosting_type=gbdt will be ignored. Current value: boosting=dart\n",
      "[LightGBM] [Warning] bagging_fraction is set=0.781455387528108, subsample=1.0 will be ignored. Current value: bagging_fraction=0.781455387528108\n",
      "[LightGBM] [Warning] bagging_freq is set=1, subsample_freq=0 will be ignored. Current value: bagging_freq=1\n",
      "[LightGBM] [Warning] No further splits with positive gain, best gain: -inf\n",
      "[LightGBM] [Warning] feature_fraction is set=0.65109907985982, colsample_bytree=1.0 will be ignored. Current value: feature_fraction=0.65109907985982\n",
      "[LightGBM] [Warning] boosting is set=dart, boosting_type=gbdt will be ignored. Current value: boosting=dart\n",
      "[LightGBM] [Warning] bagging_fraction is set=0.781455387528108, subsample=1.0 will be ignored. Current value: bagging_fraction=0.781455387528108\n",
      "[LightGBM] [Warning] bagging_freq is set=1, subsample_freq=0 will be ignored. Current value: bagging_freq=1\n",
      " Accuracy on the test data: 0.5734892992959587\n"
     ]
    }
   ],
   "source": [
    "#parameters={\"verbose\": 0,'reg_alpha': 0.20254850995533635, 'reg_lambda': 0.12867893545217435, 'num_leaves': 35, 'n_estimators': 400, 'learning_rate': 0.09432780815112071, 'feature_fraction': 0.716800455746426, 'bagging_fraction': 0.47152197625742265, 'bagging_freq': 1, 'min_child_samples': 17}\n",
    "\n",
    "parameters= {'objective': 'binary', \"seed\": 450000, \"is_unbalance\" :'True',\n",
    "        'metric': 'binary_logloss',\"verbose\": 0,'reg_alpha': 0.2703024100662205, 'reg_lambda': 0.16415960743496127, 'num_leaves': 141, 'n_estimators': 300, 'learning_rate': 0.010053895623470872, 'feature_fraction': 0.65109907985982, 'bagging_fraction': 0.781455387528108, 'bagging_freq': 1, 'min_child_samples': 74, 'boosting': 'dart'}\n",
    "model= LGBMClassifier(**parameters)\n",
    "lgbm1_pipeline=Pipeline(steps=[(\"model\",model)])\n",
    "lgbm1_pipeline.fit(X_train_scaled,y_train)\n",
    "print(f\" Accuracy on the test data: {roc_auc_score(lgbm1_pipeline.predict(X_test_scaled),y_test)}\")"
   ]
  },
  {
   "cell_type": "code",
   "execution_count": 21,
   "id": "cce89f69",
   "metadata": {
    "execution": {
     "iopub.execute_input": "2024-04-05T01:09:31.248316Z",
     "iopub.status.busy": "2024-04-05T01:09:31.247977Z",
     "iopub.status.idle": "2024-04-05T01:09:35.769486Z",
     "shell.execute_reply": "2024-04-05T01:09:35.768586Z"
    },
    "papermill": {
     "duration": 4.540752,
     "end_time": "2024-04-05T01:09:35.771688",
     "exception": false,
     "start_time": "2024-04-05T01:09:31.230936",
     "status": "completed"
    },
    "tags": []
   },
   "outputs": [
    {
     "name": "stdout",
     "output_type": "stream",
     "text": [
      "[LightGBM] [Warning] feature_fraction is set=0.45836663462677885, colsample_bytree=1.0 will be ignored. Current value: feature_fraction=0.45836663462677885\n",
      "[LightGBM] [Warning] boosting is set=dart, boosting_type=gbdt will be ignored. Current value: boosting=dart\n",
      "[LightGBM] [Warning] bagging_fraction is set=0.4169059297529421, subsample=1.0 will be ignored. Current value: bagging_fraction=0.4169059297529421\n",
      "[LightGBM] [Warning] bagging_freq is set=1, subsample_freq=0 will be ignored. Current value: bagging_freq=1\n",
      "[LightGBM] [Warning] feature_fraction is set=0.45836663462677885, colsample_bytree=1.0 will be ignored. Current value: feature_fraction=0.45836663462677885\n",
      "[LightGBM] [Warning] boosting is set=dart, boosting_type=gbdt will be ignored. Current value: boosting=dart\n",
      "[LightGBM] [Warning] bagging_fraction is set=0.4169059297529421, subsample=1.0 will be ignored. Current value: bagging_fraction=0.4169059297529421\n",
      "[LightGBM] [Warning] bagging_freq is set=1, subsample_freq=0 will be ignored. Current value: bagging_freq=1\n",
      "[LightGBM] [Warning] feature_fraction is set=0.45836663462677885, colsample_bytree=1.0 will be ignored. Current value: feature_fraction=0.45836663462677885\n",
      "[LightGBM] [Warning] boosting is set=dart, boosting_type=gbdt will be ignored. Current value: boosting=dart\n",
      "[LightGBM] [Warning] bagging_fraction is set=0.4169059297529421, subsample=1.0 will be ignored. Current value: bagging_fraction=0.4169059297529421\n",
      "[LightGBM] [Warning] bagging_freq is set=1, subsample_freq=0 will be ignored. Current value: bagging_freq=1\n",
      " Accuracy on the test data: 0.5742023904427204\n"
     ]
    }
   ],
   "source": [
    "parameters= {'objective': 'binary', \"seed\": 1, \"is_unbalance\" :'True',\n",
    "        'metric': 'binary_logloss',\"verbose\": 0,'reg_alpha': 0.09799374825060599, 'reg_lambda': 0.5236106529537, 'num_leaves': 24, 'n_estimators': 200, 'learning_rate': 0.010178852331374392, 'feature_fraction': 0.45836663462677885, 'bagging_fraction': 0.4169059297529421, 'bagging_freq': 1, 'min_child_samples': 78, 'boosting': 'dart'}\n",
    "model= LGBMClassifier(**parameters)\n",
    "lgbm2_pipeline=Pipeline(steps=[(\"model\",model)])\n",
    "lgbm2_pipeline.fit(X_train_scaled,y_train)\n",
    "\n",
    "print(f\" Accuracy on the test data: {roc_auc_score(lgbm2_pipeline.predict(X_test_scaled),y_test)}\")"
   ]
  },
  {
   "cell_type": "code",
   "execution_count": 22,
   "id": "20d62821",
   "metadata": {
    "execution": {
     "iopub.execute_input": "2024-04-05T01:09:35.804993Z",
     "iopub.status.busy": "2024-04-05T01:09:35.804649Z",
     "iopub.status.idle": "2024-04-05T01:09:39.267998Z",
     "shell.execute_reply": "2024-04-05T01:09:39.267096Z"
    },
    "papermill": {
     "duration": 3.482375,
     "end_time": "2024-04-05T01:09:39.270092",
     "exception": false,
     "start_time": "2024-04-05T01:09:35.787717",
     "status": "completed"
    },
    "tags": []
   },
   "outputs": [
    {
     "name": "stdout",
     "output_type": "stream",
     "text": [
      "[LightGBM] [Warning] feature_fraction is set=0.5050713793511961, colsample_bytree=1.0 will be ignored. Current value: feature_fraction=0.5050713793511961\n",
      "[LightGBM] [Warning] boosting is set=dart, boosting_type=gbdt will be ignored. Current value: boosting=dart\n",
      "[LightGBM] [Warning] bagging_fraction is set=0.6660990414129397, subsample=1.0 will be ignored. Current value: bagging_fraction=0.6660990414129397\n",
      "[LightGBM] [Warning] bagging_freq is set=5, subsample_freq=0 will be ignored. Current value: bagging_freq=5\n",
      "[LightGBM] [Warning] feature_fraction is set=0.5050713793511961, colsample_bytree=1.0 will be ignored. Current value: feature_fraction=0.5050713793511961\n",
      "[LightGBM] [Warning] boosting is set=dart, boosting_type=gbdt will be ignored. Current value: boosting=dart\n",
      "[LightGBM] [Warning] bagging_fraction is set=0.6660990414129397, subsample=1.0 will be ignored. Current value: bagging_fraction=0.6660990414129397\n",
      "[LightGBM] [Warning] bagging_freq is set=5, subsample_freq=0 will be ignored. Current value: bagging_freq=5\n",
      "[LightGBM] [Warning] feature_fraction is set=0.5050713793511961, colsample_bytree=1.0 will be ignored. Current value: feature_fraction=0.5050713793511961\n",
      "[LightGBM] [Warning] boosting is set=dart, boosting_type=gbdt will be ignored. Current value: boosting=dart\n",
      "[LightGBM] [Warning] bagging_fraction is set=0.6660990414129397, subsample=1.0 will be ignored. Current value: bagging_fraction=0.6660990414129397\n",
      "[LightGBM] [Warning] bagging_freq is set=5, subsample_freq=0 will be ignored. Current value: bagging_freq=5\n",
      " Accuracy on the test data: 0.5784828295764413\n"
     ]
    }
   ],
   "source": [
    "parameters= {'objective': 'binary', \"seed\": 1000, \"is_unbalance\" :'True',\n",
    "        'metric': 'binary_logloss',\"verbose\": 0,'reg_alpha': 0.0361848345303462, 'reg_lambda': 0.3496958590150242, 'num_leaves': 99, 'n_estimators': 100, 'learning_rate': 0.010236456760857725, 'feature_fraction': 0.5050713793511961, 'bagging_fraction': 0.6660990414129397, 'bagging_freq': 5, 'min_child_samples': 46, 'boosting': 'dart'}\n",
    "model= LGBMClassifier(**parameters)\n",
    "lgbm3_pipeline=Pipeline(steps=[(\"model\",model)])\n",
    "lgbm3_pipeline.fit(X_train_scaled,y_train)\n",
    "\n",
    "print(f\" Accuracy on the test data: {roc_auc_score(lgbm3_pipeline.predict(X_test_scaled),y_test)}\")"
   ]
  },
  {
   "cell_type": "code",
   "execution_count": 23,
   "id": "a153e437",
   "metadata": {
    "execution": {
     "iopub.execute_input": "2024-04-05T01:09:39.302907Z",
     "iopub.status.busy": "2024-04-05T01:09:39.302560Z",
     "iopub.status.idle": "2024-04-05T01:09:42.174868Z",
     "shell.execute_reply": "2024-04-05T01:09:42.174089Z"
    },
    "papermill": {
     "duration": 2.891036,
     "end_time": "2024-04-05T01:09:42.177033",
     "exception": false,
     "start_time": "2024-04-05T01:09:39.285997",
     "status": "completed"
    },
    "tags": []
   },
   "outputs": [
    {
     "name": "stdout",
     "output_type": "stream",
     "text": [
      "[LightGBM] [Warning] feature_fraction is set=0.41783431722169667, colsample_bytree=1.0 will be ignored. Current value: feature_fraction=0.41783431722169667\n",
      "[LightGBM] [Warning] boosting is set=gbdt, boosting_type=gbdt will be ignored. Current value: boosting=gbdt\n",
      "[LightGBM] [Warning] bagging_fraction is set=0.9214445404044942, subsample=1.0 will be ignored. Current value: bagging_fraction=0.9214445404044942\n",
      "[LightGBM] [Warning] bagging_freq is set=6, subsample_freq=0 will be ignored. Current value: bagging_freq=6\n",
      "[LightGBM] [Warning] feature_fraction is set=0.41783431722169667, colsample_bytree=1.0 will be ignored. Current value: feature_fraction=0.41783431722169667\n",
      "[LightGBM] [Warning] boosting is set=gbdt, boosting_type=gbdt will be ignored. Current value: boosting=gbdt\n",
      "[LightGBM] [Warning] bagging_fraction is set=0.9214445404044942, subsample=1.0 will be ignored. Current value: bagging_fraction=0.9214445404044942\n",
      "[LightGBM] [Warning] bagging_freq is set=6, subsample_freq=0 will be ignored. Current value: bagging_freq=6\n",
      "[LightGBM] [Warning] feature_fraction is set=0.41783431722169667, colsample_bytree=1.0 will be ignored. Current value: feature_fraction=0.41783431722169667\n",
      "[LightGBM] [Warning] boosting is set=gbdt, boosting_type=gbdt will be ignored. Current value: boosting=gbdt\n",
      "[LightGBM] [Warning] bagging_fraction is set=0.9214445404044942, subsample=1.0 will be ignored. Current value: bagging_fraction=0.9214445404044942\n",
      "[LightGBM] [Warning] bagging_freq is set=6, subsample_freq=0 will be ignored. Current value: bagging_freq=6\n",
      " Accuracy on the test data: 0.5758686707675444\n"
     ]
    }
   ],
   "source": [
    "parameters= {'objective': 'binary', \"seed\": 145, \"is_unbalance\" :'True',\n",
    "        'metric': 'binary_logloss',\"verbose\": 0,'reg_alpha': 0.5697195714074832, 'reg_lambda': 0.6700825803697663, 'num_leaves': 129, 'n_estimators': 100, 'learning_rate': 0.0151093215134558, 'feature_fraction': 0.41783431722169667, 'bagging_fraction': 0.9214445404044942, 'bagging_freq': 6, 'min_child_samples': 35, 'boosting': 'gbdt'}\n",
    "model= LGBMClassifier(**parameters)\n",
    "lgbm4_pipeline=Pipeline(steps=[(\"model\",model)])\n",
    "lgbm4_pipeline.fit(X_train_scaled,y_train)\n",
    "\n",
    "print(f\" Accuracy on the test data: {roc_auc_score(lgbm4_pipeline.predict(X_test_scaled),y_test)}\")"
   ]
  },
  {
   "cell_type": "markdown",
   "id": "2439dd41",
   "metadata": {
    "papermill": {
     "duration": 0.016076,
     "end_time": "2024-04-05T01:09:42.210792",
     "exception": false,
     "start_time": "2024-04-05T01:09:42.194716",
     "status": "completed"
    },
    "tags": []
   },
   "source": [
    "# Hyperparameter Tunning - Histogram Based Gradient Boosting"
   ]
  },
  {
   "cell_type": "code",
   "execution_count": 24,
   "id": "06975711",
   "metadata": {
    "execution": {
     "iopub.execute_input": "2024-04-05T01:09:42.245653Z",
     "iopub.status.busy": "2024-04-05T01:09:42.245029Z",
     "iopub.status.idle": "2024-04-05T01:09:42.251040Z",
     "shell.execute_reply": "2024-04-05T01:09:42.250328Z"
    },
    "papermill": {
     "duration": 0.025838,
     "end_time": "2024-04-05T01:09:42.252807",
     "exception": false,
     "start_time": "2024-04-05T01:09:42.226969",
     "status": "completed"
    },
    "tags": []
   },
   "outputs": [
    {
     "data": {
      "text/plain": [
       "'\\ndef objective(trial):\\n    #Define the hyperparameters for LGBM\\n    params = {\\n        \\'loss\\': \\'log_loss\\',\\n        \\'l2_regularization\\': trial.suggest_float(\\'l2_regularization\\', 1e-8, 1),\\n        \"max_leaf_nodes\": trial.suggest_int(\"max_leaf_nodes\", 2, 256),\\n        \\'max_iter\\': trial.suggest_int(\\'max_iter\\', 100, 1000, step=100),\\n        \\'learning_rate\\': trial.suggest_float(\\'learning_rate\\', 0.01, 0.3),\\n        \"max_depth\": trial.suggest_int(\"max_depth\", 4, 64),\\n        #\"max_features\": trial.suggest_float(\"max_features\", 0.4, 1.0),\\n        \"min_samples_leaf\": trial.suggest_int(\"min_samples_leaf\", 5, 100),\\n        \"class_weight\" :\\'balanced\\',\\n        \"verbose\": 0,\\n        \"random_state\": 56,\\n    }\\n    #Create and train the model\\n  \\n    model=HistGradientBoostingClassifier(**params)\\n    model.fit(X_train_scaled,y_train)\\n    \\n    #Evaluate the model\\n    y_pred= model.predict(X_test_scaled)\\n    try:\\n         accuracy=roc_auc_score(y_pred,y_test)\\n    except ValueError:\\n         accuracy=0.5  \\n    \\n    return accuracy\\n\\nstudy=optuna.create_study(direction=\\'maximize\\')\\nstudy.optimize(objective, n_trials=150)\\nprint(f\"Best Parameters: {study.best_params}\")    '"
      ]
     },
     "execution_count": 24,
     "metadata": {},
     "output_type": "execute_result"
    }
   ],
   "source": [
    "##We tried 4 different seeds using Optuna to determine the optimal hyperparameters for Histogram Based Graident Boosting\n",
    "\"\"\"\n",
    "def objective(trial):\n",
    "    #Define the hyperparameters for LGBM\n",
    "    params = {\n",
    "        'loss': 'log_loss',\n",
    "        'l2_regularization': trial.suggest_float('l2_regularization', 1e-8, 1),\n",
    "        \"max_leaf_nodes\": trial.suggest_int(\"max_leaf_nodes\", 2, 256),\n",
    "        'max_iter': trial.suggest_int('max_iter', 100, 1000, step=100),\n",
    "        'learning_rate': trial.suggest_float('learning_rate', 0.01, 0.3),\n",
    "        \"max_depth\": trial.suggest_int(\"max_depth\", 4, 64),\n",
    "        #\"max_features\": trial.suggest_float(\"max_features\", 0.4, 1.0),\n",
    "        \"min_samples_leaf\": trial.suggest_int(\"min_samples_leaf\", 5, 100),\n",
    "        \"class_weight\" :'balanced',\n",
    "        \"verbose\": 0,\n",
    "        \"random_state\": 56,\n",
    "    }\n",
    "    #Create and train the model\n",
    "  \n",
    "    model=HistGradientBoostingClassifier(**params)\n",
    "    model.fit(X_train_scaled,y_train)\n",
    "    \n",
    "    #Evaluate the model\n",
    "    y_pred= model.predict(X_test_scaled)\n",
    "    try:\n",
    "         accuracy=roc_auc_score(y_pred,y_test)\n",
    "    except ValueError:\n",
    "         accuracy=0.5  \n",
    "    \n",
    "    return accuracy\n",
    "\n",
    "study=optuna.create_study(direction='maximize')\n",
    "study.optimize(objective, n_trials=150)\n",
    "print(f\"Best Parameters: {study.best_params}\")    \"\"\""
   ]
  },
  {
   "cell_type": "code",
   "execution_count": 25,
   "id": "6157eece",
   "metadata": {
    "execution": {
     "iopub.execute_input": "2024-04-05T01:09:42.286987Z",
     "iopub.status.busy": "2024-04-05T01:09:42.286385Z",
     "iopub.status.idle": "2024-04-05T01:09:43.207458Z",
     "shell.execute_reply": "2024-04-05T01:09:43.206576Z"
    },
    "papermill": {
     "duration": 0.94114,
     "end_time": "2024-04-05T01:09:43.210034",
     "exception": false,
     "start_time": "2024-04-05T01:09:42.268894",
     "status": "completed"
    },
    "tags": []
   },
   "outputs": [
    {
     "name": "stdout",
     "output_type": "stream",
     "text": [
      " Accuracy on the test data: 0.5653716850445971\n"
     ]
    }
   ],
   "source": [
    "parameters= {\"random_state\": 56, \"class_weight\" :'balanced',\n",
    "        'loss': 'log_loss',\"verbose\": 0,'l2_regularization': 0.8856011797229449, 'max_leaf_nodes': 65, 'max_iter': 500, 'learning_rate': 0.08514782732622847, 'max_depth': 25, 'min_samples_leaf': 95}\n",
    "model= HistGradientBoostingClassifier(**parameters)\n",
    "hgb1_pipeline=Pipeline(steps=[(\"model\",model)])\n",
    "hgb1_pipeline.fit(X_train_scaled,y_train)\n",
    "\n",
    "print(f\" Accuracy on the test data: {roc_auc_score(hgb1_pipeline.predict(X_test_scaled),y_test)}\")"
   ]
  },
  {
   "cell_type": "code",
   "execution_count": 26,
   "id": "6a9b59d1",
   "metadata": {
    "execution": {
     "iopub.execute_input": "2024-04-05T01:09:43.244231Z",
     "iopub.status.busy": "2024-04-05T01:09:43.243892Z",
     "iopub.status.idle": "2024-04-05T01:09:45.737721Z",
     "shell.execute_reply": "2024-04-05T01:09:45.736740Z"
    },
    "papermill": {
     "duration": 2.513527,
     "end_time": "2024-04-05T01:09:45.739926",
     "exception": false,
     "start_time": "2024-04-05T01:09:43.226399",
     "status": "completed"
    },
    "tags": []
   },
   "outputs": [
    {
     "name": "stdout",
     "output_type": "stream",
     "text": [
      " Accuracy on the test data: 0.5682483248947946\n"
     ]
    }
   ],
   "source": [
    "parameters= {\"random_state\": 4, \"class_weight\" :'balanced',\n",
    "        'loss': 'log_loss',\"verbose\": 0,'l2_regularization': 0.6747281154395162, 'max_leaf_nodes': 30, 'max_iter': 300, 'learning_rate': 0.030280318603348948, 'max_depth': 55, 'min_samples_leaf': 38}\n",
    "model= HistGradientBoostingClassifier(**parameters)\n",
    "hgb2_pipeline=Pipeline(steps=[(\"model\",model)])\n",
    "hgb2_pipeline.fit(X_train_scaled,y_train)\n",
    "\n",
    "print(f\" Accuracy on the test data: {roc_auc_score(hgb2_pipeline.predict(X_test_scaled),y_test)}\")"
   ]
  },
  {
   "cell_type": "code",
   "execution_count": 27,
   "id": "5fd25eef",
   "metadata": {
    "execution": {
     "iopub.execute_input": "2024-04-05T01:09:45.775682Z",
     "iopub.status.busy": "2024-04-05T01:09:45.774991Z",
     "iopub.status.idle": "2024-04-05T01:09:47.391427Z",
     "shell.execute_reply": "2024-04-05T01:09:47.390296Z"
    },
    "papermill": {
     "duration": 1.637251,
     "end_time": "2024-04-05T01:09:47.393830",
     "exception": false,
     "start_time": "2024-04-05T01:09:45.756579",
     "status": "completed"
    },
    "tags": []
   },
   "outputs": [
    {
     "name": "stdout",
     "output_type": "stream",
     "text": [
      " Accuracy on the test data: 0.566227400932117\n"
     ]
    }
   ],
   "source": [
    "parameters= {\"random_state\": 45004, \"class_weight\" :'balanced',\n",
    "        'loss': 'log_loss',\"verbose\": 0,'l2_regularization': 0.17321843919221783, 'max_leaf_nodes': 28, 'max_iter': 200, 'learning_rate': 0.03930712764704215, 'max_depth': 47, 'min_samples_leaf': 98}\n",
    "model= HistGradientBoostingClassifier(**parameters)\n",
    "hgb3_pipeline=Pipeline(steps=[(\"model\",model)])\n",
    "hgb3_pipeline.fit(X_train_scaled,y_train)\n",
    "\n",
    "print(f\" Accuracy on the test data: {roc_auc_score(hgb3_pipeline.predict(X_test_scaled),y_test)}\")"
   ]
  },
  {
   "cell_type": "code",
   "execution_count": 28,
   "id": "761f7a76",
   "metadata": {
    "execution": {
     "iopub.execute_input": "2024-04-05T01:09:47.429404Z",
     "iopub.status.busy": "2024-04-05T01:09:47.429046Z",
     "iopub.status.idle": "2024-04-05T01:09:49.449491Z",
     "shell.execute_reply": "2024-04-05T01:09:49.448076Z"
    },
    "papermill": {
     "duration": 2.040223,
     "end_time": "2024-04-05T01:09:49.451593",
     "exception": false,
     "start_time": "2024-04-05T01:09:47.411370",
     "status": "completed"
    },
    "tags": []
   },
   "outputs": [
    {
     "name": "stdout",
     "output_type": "stream",
     "text": [
      " Accuracy on the test data: 0.5643704798949318\n"
     ]
    }
   ],
   "source": [
    "parameters= {\"random_state\": 1004, \"class_weight\" :'balanced',\n",
    "        'loss': 'log_loss',\"verbose\": 0,'l2_regularization': 0.1931731476071948, 'max_leaf_nodes': 37, 'max_iter': 600, 'learning_rate': 0.029239857170431063, 'max_depth': 25, 'min_samples_leaf': 89}\n",
    "model= HistGradientBoostingClassifier(**parameters)\n",
    "hgb4_pipeline=Pipeline(steps=[(\"model\",model)])\n",
    "hgb4_pipeline.fit(X_train_scaled,y_train)\n",
    "\n",
    "print(f\" Accuracy on the test data: {roc_auc_score(hgb4_pipeline.predict(X_test_scaled),y_test)}\")"
   ]
  },
  {
   "cell_type": "markdown",
   "id": "d02cc916",
   "metadata": {
    "papermill": {
     "duration": 0.016355,
     "end_time": "2024-04-05T01:09:49.484791",
     "exception": false,
     "start_time": "2024-04-05T01:09:49.468436",
     "status": "completed"
    },
    "tags": []
   },
   "source": [
    "# Hyperparameter Tunning - Logistic Regression"
   ]
  },
  {
   "cell_type": "code",
   "execution_count": 29,
   "id": "12c40bc9",
   "metadata": {
    "execution": {
     "iopub.execute_input": "2024-04-05T01:09:49.519856Z",
     "iopub.status.busy": "2024-04-05T01:09:49.519500Z",
     "iopub.status.idle": "2024-04-05T01:09:49.526258Z",
     "shell.execute_reply": "2024-04-05T01:09:49.525226Z"
    },
    "papermill": {
     "duration": 0.026716,
     "end_time": "2024-04-05T01:09:49.528163",
     "exception": false,
     "start_time": "2024-04-05T01:09:49.501447",
     "status": "completed"
    },
    "tags": []
   },
   "outputs": [
    {
     "data": {
      "text/plain": [
       "'def objective(trial):\\n    #Define the hyperparameters for LGBM\\n    params = {\\n        \"penalty\": \"l2\",\\n        \\'C\\': trial.suggest_float(\\'C\\', 1e-8, 1),\\n        \\'max_iter\\': trial.suggest_int(\\'max_iter\\', 100, 1000, step=100),\\n        \\'solver\\': trial.suggest_categorical(\\'solver\\', [\\'lbfgs\\', \\'liblinear\\',\\'newton-cg\\',\\'newton-cholesky\\',\\'sag\\',\\'saga\\']),\\n        \"class_weight\" :\\'balanced\\',\\n        \"verbose\": 0,\\n        \"random_state\": 67,\\n    }\\n    #Create and train the model\\n  \\n    model=LogisticRegression(**params)\\n    model.fit(X_train_scaled,y_train)\\n    \\n    #Evaluate the model\\n    y_pred= model.predict(X_test_scaled)\\n    try:\\n         accuracy=roc_auc_score(y_pred,y_test)\\n    except ValueError:\\n         accuracy=0.5  \\n    \\n    return accuracy\\n\\nstudy=optuna.create_study(direction=\\'maximize\\')\\nstudy.optimize(objective, n_trials=150)\\nprint(f\"Best Parameters: {study.best_params}\")    '"
      ]
     },
     "execution_count": 29,
     "metadata": {},
     "output_type": "execute_result"
    }
   ],
   "source": [
    "##We tried 4 different seeds using Optuna to determine the optimal hyperparameters for Logistic Regression\n",
    "\"\"\"def objective(trial):\n",
    "    #Define the hyperparameters for LGBM\n",
    "    params = {\n",
    "        \"penalty\": \"l2\",\n",
    "        'C': trial.suggest_float('C', 1e-8, 1),\n",
    "        'max_iter': trial.suggest_int('max_iter', 100, 1000, step=100),\n",
    "        'solver': trial.suggest_categorical('solver', ['lbfgs', 'liblinear','newton-cg','newton-cholesky','sag','saga']),\n",
    "        \"class_weight\" :'balanced',\n",
    "        \"verbose\": 0,\n",
    "        \"random_state\": 67,\n",
    "    }\n",
    "    #Create and train the model\n",
    "  \n",
    "    model=LogisticRegression(**params)\n",
    "    model.fit(X_train_scaled,y_train)\n",
    "    \n",
    "    #Evaluate the model\n",
    "    y_pred= model.predict(X_test_scaled)\n",
    "    try:\n",
    "         accuracy=roc_auc_score(y_pred,y_test)\n",
    "    except ValueError:\n",
    "         accuracy=0.5  \n",
    "    \n",
    "    return accuracy\n",
    "\n",
    "study=optuna.create_study(direction='maximize')\n",
    "study.optimize(objective, n_trials=150)\n",
    "print(f\"Best Parameters: {study.best_params}\")    \"\"\"\n"
   ]
  },
  {
   "cell_type": "code",
   "execution_count": 30,
   "id": "1cf4bfb7",
   "metadata": {
    "execution": {
     "iopub.execute_input": "2024-04-05T01:09:49.563097Z",
     "iopub.status.busy": "2024-04-05T01:09:49.562742Z",
     "iopub.status.idle": "2024-04-05T01:09:50.748172Z",
     "shell.execute_reply": "2024-04-05T01:09:50.746958Z"
    },
    "papermill": {
     "duration": 1.20619,
     "end_time": "2024-04-05T01:09:50.751056",
     "exception": false,
     "start_time": "2024-04-05T01:09:49.544866",
     "status": "completed"
    },
    "tags": []
   },
   "outputs": [
    {
     "name": "stdout",
     "output_type": "stream",
     "text": [
      " Accuracy on the test data: 0.5554295543546248\n"
     ]
    }
   ],
   "source": [
    "params = {\n",
    "        \"penalty\": \"l2\",\n",
    "        'C': 0.019755177230401058, 'max_iter': 200, 'solver': 'saga',\n",
    "        \"class_weight\" :'balanced',\n",
    "        \"verbose\": 0,\n",
    "        \"random_state\": 45004,\n",
    "    }\n",
    "\n",
    "model= LogisticRegression(**params)\n",
    "lr1_pipeline=Pipeline(steps=[(\"model\",model)])\n",
    "lr1_pipeline.fit(X_train_scaled,y_train)\n",
    "\n",
    "\n",
    "print(f\" Accuracy on the test data: {roc_auc_score(lr1_pipeline.predict(X_test_scaled),y_test)}\")\n",
    "\n"
   ]
  },
  {
   "cell_type": "code",
   "execution_count": 31,
   "id": "d3e2ecac",
   "metadata": {
    "execution": {
     "iopub.execute_input": "2024-04-05T01:09:50.816831Z",
     "iopub.status.busy": "2024-04-05T01:09:50.816296Z",
     "iopub.status.idle": "2024-04-05T01:09:52.102035Z",
     "shell.execute_reply": "2024-04-05T01:09:52.100965Z"
    },
    "papermill": {
     "duration": 1.323357,
     "end_time": "2024-04-05T01:09:52.104803",
     "exception": false,
     "start_time": "2024-04-05T01:09:50.781446",
     "status": "completed"
    },
    "tags": []
   },
   "outputs": [
    {
     "name": "stdout",
     "output_type": "stream",
     "text": [
      " Accuracy on the test data: 0.5554225010170472\n"
     ]
    }
   ],
   "source": [
    "params = {\n",
    "        \"penalty\": \"l2\",\n",
    "        'C': 0.022152838548293537, 'max_iter': 1000, 'solver': 'saga',\n",
    "        \"class_weight\" :'balanced',\n",
    "        \"verbose\": 0,\n",
    "        \"random_state\": 5,\n",
    "    }\n",
    "\n",
    "model= LogisticRegression(**params)\n",
    "lr2_pipeline=Pipeline(steps=[(\"model\",model)])\n",
    "lr2_pipeline.fit(X_train_scaled,y_train)\n",
    "\n",
    "\n",
    "print(f\" Accuracy on the test data: {roc_auc_score(lr2_pipeline.predict(X_test_scaled),y_test)}\")\n"
   ]
  },
  {
   "cell_type": "code",
   "execution_count": 32,
   "id": "23b7224d",
   "metadata": {
    "execution": {
     "iopub.execute_input": "2024-04-05T01:09:52.168520Z",
     "iopub.status.busy": "2024-04-05T01:09:52.168017Z",
     "iopub.status.idle": "2024-04-05T01:09:53.413792Z",
     "shell.execute_reply": "2024-04-05T01:09:53.412607Z"
    },
    "papermill": {
     "duration": 1.281218,
     "end_time": "2024-04-05T01:09:53.417678",
     "exception": false,
     "start_time": "2024-04-05T01:09:52.136460",
     "status": "completed"
    },
    "tags": []
   },
   "outputs": [
    {
     "name": "stdout",
     "output_type": "stream",
     "text": [
      " Accuracy on the test data: 0.5555190617853929\n"
     ]
    }
   ],
   "source": [
    "params = {\n",
    "        \"penalty\": \"l2\",\n",
    "        'C': 0.019627715205345654, 'max_iter': 600, 'solver': 'saga',\n",
    "        \"class_weight\" :'balanced',\n",
    "        \"verbose\": 0,\n",
    "        \"random_state\": 67,\n",
    "    }\n",
    "\n",
    "model= LogisticRegression(**params)\n",
    "lr3_pipeline=Pipeline(steps=[(\"model\",model)])\n",
    "lr3_pipeline.fit(X_train_scaled,y_train)\n",
    "\n",
    "print(f\" Accuracy on the test data: {roc_auc_score(lr3_pipeline.predict(X_test_scaled),y_test)}\")\n"
   ]
  },
  {
   "cell_type": "code",
   "execution_count": 33,
   "id": "c4572053",
   "metadata": {
    "execution": {
     "iopub.execute_input": "2024-04-05T01:09:53.476759Z",
     "iopub.status.busy": "2024-04-05T01:09:53.476257Z",
     "iopub.status.idle": "2024-04-05T01:09:53.690018Z",
     "shell.execute_reply": "2024-04-05T01:09:53.688948Z"
    },
    "papermill": {
     "duration": 0.246396,
     "end_time": "2024-04-05T01:09:53.692930",
     "exception": false,
     "start_time": "2024-04-05T01:09:53.446534",
     "status": "completed"
    },
    "tags": []
   },
   "outputs": [
    {
     "name": "stdout",
     "output_type": "stream",
     "text": [
      " Accuracy on the test data: 0.5554431219005819\n"
     ]
    }
   ],
   "source": [
    "params = {\n",
    "        \"penalty\": \"l2\",\n",
    "        'C': 0.023356838076404915, 'max_iter': 300, 'solver': 'lbfgs',\n",
    "        \"class_weight\" :'balanced',\n",
    "        \"verbose\": 0,\n",
    "        \"random_state\": 5100,\n",
    "    }\n",
    "\n",
    "model= LogisticRegression(**params)\n",
    "lr4_pipeline=Pipeline(steps=[(\"model\",model)])\n",
    "lr4_pipeline.fit(X_train_scaled,y_train)\n",
    "\n",
    "print(f\" Accuracy on the test data: {roc_auc_score(lr4_pipeline.predict(X_test_scaled),y_test)}\")"
   ]
  },
  {
   "cell_type": "markdown",
   "id": "5d5f470b",
   "metadata": {
    "papermill": {
     "duration": 0.028103,
     "end_time": "2024-04-05T01:09:53.749838",
     "exception": false,
     "start_time": "2024-04-05T01:09:53.721735",
     "status": "completed"
    },
    "tags": []
   },
   "source": [
    "# Final Model "
   ]
  },
  {
   "cell_type": "code",
   "execution_count": 34,
   "id": "9111412d",
   "metadata": {
    "execution": {
     "iopub.execute_input": "2024-04-05T01:09:53.804925Z",
     "iopub.status.busy": "2024-04-05T01:09:53.804566Z",
     "iopub.status.idle": "2024-04-05T01:09:57.731274Z",
     "shell.execute_reply": "2024-04-05T01:09:57.728353Z"
    },
    "papermill": {
     "duration": 3.956415,
     "end_time": "2024-04-05T01:09:57.734621",
     "exception": false,
     "start_time": "2024-04-05T01:09:53.778206",
     "status": "completed"
    },
    "tags": []
   },
   "outputs": [
    {
     "name": "stdout",
     "output_type": "stream",
     "text": [
      " Accuracy on the test data based on Average Linear Regression Approach: 0.5551404014170349\n"
     ]
    }
   ],
   "source": [
    "#Overall performance of Logistic Regression Model\n",
    "final_model = VotingClassifier(\n",
    "estimators=[('LR4', lr4_pipeline), ('LR3', lr3_pipeline), ('LR2', lr2_pipeline),('LR1', lr1_pipeline)], voting='soft')\n",
    "final_model.fit(X_train_scaled, y_train)\n",
    "lr_result = roc_auc_score(final_model.predict(X_test_scaled),y_test)\n",
    "print(f\" Accuracy on the test data based on Average Linear Regression Approach: {roc_auc_score(final_model.predict(X_test_scaled),y_test)}\")"
   ]
  },
  {
   "cell_type": "code",
   "execution_count": 35,
   "id": "48636127",
   "metadata": {
    "execution": {
     "iopub.execute_input": "2024-04-05T01:09:57.794211Z",
     "iopub.status.busy": "2024-04-05T01:09:57.793538Z",
     "iopub.status.idle": "2024-04-05T01:10:29.583092Z",
     "shell.execute_reply": "2024-04-05T01:10:29.582004Z"
    },
    "papermill": {
     "duration": 31.821705,
     "end_time": "2024-04-05T01:10:29.585144",
     "exception": false,
     "start_time": "2024-04-05T01:09:57.763439",
     "status": "completed"
    },
    "tags": []
   },
   "outputs": [
    {
     "name": "stdout",
     "output_type": "stream",
     "text": [
      "[LightGBM] [Warning] feature_fraction is set=0.41783431722169667, colsample_bytree=1.0 will be ignored. Current value: feature_fraction=0.41783431722169667\n",
      "[LightGBM] [Warning] boosting is set=gbdt, boosting_type=gbdt will be ignored. Current value: boosting=gbdt\n",
      "[LightGBM] [Warning] bagging_fraction is set=0.9214445404044942, subsample=1.0 will be ignored. Current value: bagging_fraction=0.9214445404044942\n",
      "[LightGBM] [Warning] bagging_freq is set=6, subsample_freq=0 will be ignored. Current value: bagging_freq=6\n",
      "[LightGBM] [Warning] feature_fraction is set=0.41783431722169667, colsample_bytree=1.0 will be ignored. Current value: feature_fraction=0.41783431722169667\n",
      "[LightGBM] [Warning] boosting is set=gbdt, boosting_type=gbdt will be ignored. Current value: boosting=gbdt\n",
      "[LightGBM] [Warning] bagging_fraction is set=0.9214445404044942, subsample=1.0 will be ignored. Current value: bagging_fraction=0.9214445404044942\n",
      "[LightGBM] [Warning] bagging_freq is set=6, subsample_freq=0 will be ignored. Current value: bagging_freq=6\n",
      "[LightGBM] [Warning] feature_fraction is set=0.5050713793511961, colsample_bytree=1.0 will be ignored. Current value: feature_fraction=0.5050713793511961\n",
      "[LightGBM] [Warning] boosting is set=dart, boosting_type=gbdt will be ignored. Current value: boosting=dart\n",
      "[LightGBM] [Warning] bagging_fraction is set=0.6660990414129397, subsample=1.0 will be ignored. Current value: bagging_fraction=0.6660990414129397\n",
      "[LightGBM] [Warning] bagging_freq is set=5, subsample_freq=0 will be ignored. Current value: bagging_freq=5\n",
      "[LightGBM] [Warning] feature_fraction is set=0.5050713793511961, colsample_bytree=1.0 will be ignored. Current value: feature_fraction=0.5050713793511961\n",
      "[LightGBM] [Warning] boosting is set=dart, boosting_type=gbdt will be ignored. Current value: boosting=dart\n",
      "[LightGBM] [Warning] bagging_fraction is set=0.6660990414129397, subsample=1.0 will be ignored. Current value: bagging_fraction=0.6660990414129397\n",
      "[LightGBM] [Warning] bagging_freq is set=5, subsample_freq=0 will be ignored. Current value: bagging_freq=5\n",
      "[LightGBM] [Warning] feature_fraction is set=0.45836663462677885, colsample_bytree=1.0 will be ignored. Current value: feature_fraction=0.45836663462677885\n",
      "[LightGBM] [Warning] boosting is set=dart, boosting_type=gbdt will be ignored. Current value: boosting=dart\n",
      "[LightGBM] [Warning] bagging_fraction is set=0.4169059297529421, subsample=1.0 will be ignored. Current value: bagging_fraction=0.4169059297529421\n",
      "[LightGBM] [Warning] bagging_freq is set=1, subsample_freq=0 will be ignored. Current value: bagging_freq=1\n",
      "[LightGBM] [Warning] feature_fraction is set=0.45836663462677885, colsample_bytree=1.0 will be ignored. Current value: feature_fraction=0.45836663462677885\n",
      "[LightGBM] [Warning] boosting is set=dart, boosting_type=gbdt will be ignored. Current value: boosting=dart\n",
      "[LightGBM] [Warning] bagging_fraction is set=0.4169059297529421, subsample=1.0 will be ignored. Current value: bagging_fraction=0.4169059297529421\n",
      "[LightGBM] [Warning] bagging_freq is set=1, subsample_freq=0 will be ignored. Current value: bagging_freq=1\n",
      "[LightGBM] [Warning] feature_fraction is set=0.65109907985982, colsample_bytree=1.0 will be ignored. Current value: feature_fraction=0.65109907985982\n",
      "[LightGBM] [Warning] boosting is set=dart, boosting_type=gbdt will be ignored. Current value: boosting=dart\n",
      "[LightGBM] [Warning] bagging_fraction is set=0.781455387528108, subsample=1.0 will be ignored. Current value: bagging_fraction=0.781455387528108\n",
      "[LightGBM] [Warning] bagging_freq is set=1, subsample_freq=0 will be ignored. Current value: bagging_freq=1\n",
      "[LightGBM] [Warning] feature_fraction is set=0.65109907985982, colsample_bytree=1.0 will be ignored. Current value: feature_fraction=0.65109907985982\n",
      "[LightGBM] [Warning] boosting is set=dart, boosting_type=gbdt will be ignored. Current value: boosting=dart\n",
      "[LightGBM] [Warning] bagging_fraction is set=0.781455387528108, subsample=1.0 will be ignored. Current value: bagging_fraction=0.781455387528108\n",
      "[LightGBM] [Warning] bagging_freq is set=1, subsample_freq=0 will be ignored. Current value: bagging_freq=1\n",
      "[LightGBM] [Warning] No further splits with positive gain, best gain: -inf\n",
      "[LightGBM] [Warning] feature_fraction is set=0.41783431722169667, colsample_bytree=1.0 will be ignored. Current value: feature_fraction=0.41783431722169667\n",
      "[LightGBM] [Warning] boosting is set=gbdt, boosting_type=gbdt will be ignored. Current value: boosting=gbdt\n",
      "[LightGBM] [Warning] bagging_fraction is set=0.9214445404044942, subsample=1.0 will be ignored. Current value: bagging_fraction=0.9214445404044942\n",
      "[LightGBM] [Warning] bagging_freq is set=6, subsample_freq=0 will be ignored. Current value: bagging_freq=6\n",
      "[LightGBM] [Warning] feature_fraction is set=0.5050713793511961, colsample_bytree=1.0 will be ignored. Current value: feature_fraction=0.5050713793511961\n",
      "[LightGBM] [Warning] boosting is set=dart, boosting_type=gbdt will be ignored. Current value: boosting=dart\n",
      "[LightGBM] [Warning] bagging_fraction is set=0.6660990414129397, subsample=1.0 will be ignored. Current value: bagging_fraction=0.6660990414129397\n",
      "[LightGBM] [Warning] bagging_freq is set=5, subsample_freq=0 will be ignored. Current value: bagging_freq=5\n",
      "[LightGBM] [Warning] feature_fraction is set=0.45836663462677885, colsample_bytree=1.0 will be ignored. Current value: feature_fraction=0.45836663462677885\n",
      "[LightGBM] [Warning] boosting is set=dart, boosting_type=gbdt will be ignored. Current value: boosting=dart\n",
      "[LightGBM] [Warning] bagging_fraction is set=0.4169059297529421, subsample=1.0 will be ignored. Current value: bagging_fraction=0.4169059297529421\n",
      "[LightGBM] [Warning] bagging_freq is set=1, subsample_freq=0 will be ignored. Current value: bagging_freq=1\n",
      "[LightGBM] [Warning] feature_fraction is set=0.65109907985982, colsample_bytree=1.0 will be ignored. Current value: feature_fraction=0.65109907985982\n",
      "[LightGBM] [Warning] boosting is set=dart, boosting_type=gbdt will be ignored. Current value: boosting=dart\n",
      "[LightGBM] [Warning] bagging_fraction is set=0.781455387528108, subsample=1.0 will be ignored. Current value: bagging_fraction=0.781455387528108\n",
      "[LightGBM] [Warning] bagging_freq is set=1, subsample_freq=0 will be ignored. Current value: bagging_freq=1\n",
      "[LightGBM] [Warning] feature_fraction is set=0.41783431722169667, colsample_bytree=1.0 will be ignored. Current value: feature_fraction=0.41783431722169667\n",
      "[LightGBM] [Warning] boosting is set=gbdt, boosting_type=gbdt will be ignored. Current value: boosting=gbdt\n",
      "[LightGBM] [Warning] bagging_fraction is set=0.9214445404044942, subsample=1.0 will be ignored. Current value: bagging_fraction=0.9214445404044942\n",
      "[LightGBM] [Warning] bagging_freq is set=6, subsample_freq=0 will be ignored. Current value: bagging_freq=6\n",
      "[LightGBM] [Warning] feature_fraction is set=0.5050713793511961, colsample_bytree=1.0 will be ignored. Current value: feature_fraction=0.5050713793511961\n",
      "[LightGBM] [Warning] boosting is set=dart, boosting_type=gbdt will be ignored. Current value: boosting=dart\n",
      "[LightGBM] [Warning] bagging_fraction is set=0.6660990414129397, subsample=1.0 will be ignored. Current value: bagging_fraction=0.6660990414129397\n",
      "[LightGBM] [Warning] bagging_freq is set=5, subsample_freq=0 will be ignored. Current value: bagging_freq=5\n",
      "[LightGBM] [Warning] feature_fraction is set=0.45836663462677885, colsample_bytree=1.0 will be ignored. Current value: feature_fraction=0.45836663462677885\n",
      "[LightGBM] [Warning] boosting is set=dart, boosting_type=gbdt will be ignored. Current value: boosting=dart\n",
      "[LightGBM] [Warning] bagging_fraction is set=0.4169059297529421, subsample=1.0 will be ignored. Current value: bagging_fraction=0.4169059297529421\n",
      "[LightGBM] [Warning] bagging_freq is set=1, subsample_freq=0 will be ignored. Current value: bagging_freq=1\n",
      "[LightGBM] [Warning] feature_fraction is set=0.65109907985982, colsample_bytree=1.0 will be ignored. Current value: feature_fraction=0.65109907985982\n",
      "[LightGBM] [Warning] boosting is set=dart, boosting_type=gbdt will be ignored. Current value: boosting=dart\n",
      "[LightGBM] [Warning] bagging_fraction is set=0.781455387528108, subsample=1.0 will be ignored. Current value: bagging_fraction=0.781455387528108\n",
      "[LightGBM] [Warning] bagging_freq is set=1, subsample_freq=0 will be ignored. Current value: bagging_freq=1\n",
      " Accuracy on the test data based on Average LGBM Approach: 0.5759306871546287\n"
     ]
    }
   ],
   "source": [
    "#Overall performance of LGBM Model\n",
    "final_model = VotingClassifier(\n",
    "estimators=[ ('LGBM4',lgbm4_pipeline), ('LGBM3',lgbm3_pipeline), ('LGBM2',lgbm2_pipeline), ('LGBM1',lgbm1_pipeline)], voting='soft')\n",
    "\n",
    "final_model.fit(X_train_scaled, y_train)\n",
    "lgbm_result = roc_auc_score(final_model.predict(X_test_scaled),y_test)\n",
    "print(f\" Accuracy on the test data based on Average LGBM Approach: {roc_auc_score(final_model.predict(X_test_scaled),y_test)}\")\n"
   ]
  },
  {
   "cell_type": "code",
   "execution_count": 36,
   "id": "6b1741f2",
   "metadata": {
    "execution": {
     "iopub.execute_input": "2024-04-05T01:10:29.624432Z",
     "iopub.status.busy": "2024-04-05T01:10:29.623759Z",
     "iopub.status.idle": "2024-04-05T01:10:37.269803Z",
     "shell.execute_reply": "2024-04-05T01:10:37.269047Z"
    },
    "papermill": {
     "duration": 7.667908,
     "end_time": "2024-04-05T01:10:37.271910",
     "exception": false,
     "start_time": "2024-04-05T01:10:29.604002",
     "status": "completed"
    },
    "tags": []
   },
   "outputs": [
    {
     "name": "stdout",
     "output_type": "stream",
     "text": [
      " Accuracy on the test data based on Average HGB Approach: 0.5681558100543791\n"
     ]
    }
   ],
   "source": [
    "#Overall performance of Histogram Based Gradient Ensemble Model\n",
    "final_model = VotingClassifier(\n",
    "estimators=[('HGB4', hgb4_pipeline),('HGB3', hgb3_pipeline),('HGB2', hgb2_pipeline),('HGB1', hgb1_pipeline)], voting='soft')\n",
    "\n",
    "final_model.fit(X_train_scaled, y_train)\n",
    "hgb_result = roc_auc_score(final_model.predict(X_test_scaled),y_test)\n",
    "print(f\" Accuracy on the test data based on Average HGB Approach: {roc_auc_score(final_model.predict(X_test_scaled),y_test)}\")\n"
   ]
  },
  {
   "cell_type": "code",
   "execution_count": 37,
   "id": "3e0854cc",
   "metadata": {
    "execution": {
     "iopub.execute_input": "2024-04-05T01:10:37.311466Z",
     "iopub.status.busy": "2024-04-05T01:10:37.310707Z",
     "iopub.status.idle": "2024-04-05T01:11:20.582110Z",
     "shell.execute_reply": "2024-04-05T01:11:20.581103Z"
    },
    "papermill": {
     "duration": 43.293818,
     "end_time": "2024-04-05T01:11:20.584561",
     "exception": false,
     "start_time": "2024-04-05T01:10:37.290743",
     "status": "completed"
    },
    "tags": []
   },
   "outputs": [
    {
     "name": "stdout",
     "output_type": "stream",
     "text": [
      "[LightGBM] [Warning] feature_fraction is set=0.41783431722169667, colsample_bytree=1.0 will be ignored. Current value: feature_fraction=0.41783431722169667\n",
      "[LightGBM] [Warning] boosting is set=gbdt, boosting_type=gbdt will be ignored. Current value: boosting=gbdt\n",
      "[LightGBM] [Warning] bagging_fraction is set=0.9214445404044942, subsample=1.0 will be ignored. Current value: bagging_fraction=0.9214445404044942\n",
      "[LightGBM] [Warning] bagging_freq is set=6, subsample_freq=0 will be ignored. Current value: bagging_freq=6\n",
      "[LightGBM] [Warning] feature_fraction is set=0.41783431722169667, colsample_bytree=1.0 will be ignored. Current value: feature_fraction=0.41783431722169667\n",
      "[LightGBM] [Warning] boosting is set=gbdt, boosting_type=gbdt will be ignored. Current value: boosting=gbdt\n",
      "[LightGBM] [Warning] bagging_fraction is set=0.9214445404044942, subsample=1.0 will be ignored. Current value: bagging_fraction=0.9214445404044942\n",
      "[LightGBM] [Warning] bagging_freq is set=6, subsample_freq=0 will be ignored. Current value: bagging_freq=6\n",
      "[LightGBM] [Warning] feature_fraction is set=0.5050713793511961, colsample_bytree=1.0 will be ignored. Current value: feature_fraction=0.5050713793511961\n",
      "[LightGBM] [Warning] boosting is set=dart, boosting_type=gbdt will be ignored. Current value: boosting=dart\n",
      "[LightGBM] [Warning] bagging_fraction is set=0.6660990414129397, subsample=1.0 will be ignored. Current value: bagging_fraction=0.6660990414129397\n",
      "[LightGBM] [Warning] bagging_freq is set=5, subsample_freq=0 will be ignored. Current value: bagging_freq=5\n",
      "[LightGBM] [Warning] feature_fraction is set=0.5050713793511961, colsample_bytree=1.0 will be ignored. Current value: feature_fraction=0.5050713793511961\n",
      "[LightGBM] [Warning] boosting is set=dart, boosting_type=gbdt will be ignored. Current value: boosting=dart\n",
      "[LightGBM] [Warning] bagging_fraction is set=0.6660990414129397, subsample=1.0 will be ignored. Current value: bagging_fraction=0.6660990414129397\n",
      "[LightGBM] [Warning] bagging_freq is set=5, subsample_freq=0 will be ignored. Current value: bagging_freq=5\n",
      "[LightGBM] [Warning] feature_fraction is set=0.45836663462677885, colsample_bytree=1.0 will be ignored. Current value: feature_fraction=0.45836663462677885\n",
      "[LightGBM] [Warning] boosting is set=dart, boosting_type=gbdt will be ignored. Current value: boosting=dart\n",
      "[LightGBM] [Warning] bagging_fraction is set=0.4169059297529421, subsample=1.0 will be ignored. Current value: bagging_fraction=0.4169059297529421\n",
      "[LightGBM] [Warning] bagging_freq is set=1, subsample_freq=0 will be ignored. Current value: bagging_freq=1\n",
      "[LightGBM] [Warning] feature_fraction is set=0.45836663462677885, colsample_bytree=1.0 will be ignored. Current value: feature_fraction=0.45836663462677885\n",
      "[LightGBM] [Warning] boosting is set=dart, boosting_type=gbdt will be ignored. Current value: boosting=dart\n",
      "[LightGBM] [Warning] bagging_fraction is set=0.4169059297529421, subsample=1.0 will be ignored. Current value: bagging_fraction=0.4169059297529421\n",
      "[LightGBM] [Warning] bagging_freq is set=1, subsample_freq=0 will be ignored. Current value: bagging_freq=1\n",
      "[LightGBM] [Warning] feature_fraction is set=0.65109907985982, colsample_bytree=1.0 will be ignored. Current value: feature_fraction=0.65109907985982\n",
      "[LightGBM] [Warning] boosting is set=dart, boosting_type=gbdt will be ignored. Current value: boosting=dart\n",
      "[LightGBM] [Warning] bagging_fraction is set=0.781455387528108, subsample=1.0 will be ignored. Current value: bagging_fraction=0.781455387528108\n",
      "[LightGBM] [Warning] bagging_freq is set=1, subsample_freq=0 will be ignored. Current value: bagging_freq=1\n",
      "[LightGBM] [Warning] feature_fraction is set=0.65109907985982, colsample_bytree=1.0 will be ignored. Current value: feature_fraction=0.65109907985982\n",
      "[LightGBM] [Warning] boosting is set=dart, boosting_type=gbdt will be ignored. Current value: boosting=dart\n",
      "[LightGBM] [Warning] bagging_fraction is set=0.781455387528108, subsample=1.0 will be ignored. Current value: bagging_fraction=0.781455387528108\n",
      "[LightGBM] [Warning] bagging_freq is set=1, subsample_freq=0 will be ignored. Current value: bagging_freq=1\n",
      "[LightGBM] [Warning] No further splits with positive gain, best gain: -inf\n",
      "[LightGBM] [Warning] feature_fraction is set=0.41783431722169667, colsample_bytree=1.0 will be ignored. Current value: feature_fraction=0.41783431722169667\n",
      "[LightGBM] [Warning] boosting is set=gbdt, boosting_type=gbdt will be ignored. Current value: boosting=gbdt\n",
      "[LightGBM] [Warning] bagging_fraction is set=0.9214445404044942, subsample=1.0 will be ignored. Current value: bagging_fraction=0.9214445404044942\n",
      "[LightGBM] [Warning] bagging_freq is set=6, subsample_freq=0 will be ignored. Current value: bagging_freq=6\n",
      "[LightGBM] [Warning] feature_fraction is set=0.5050713793511961, colsample_bytree=1.0 will be ignored. Current value: feature_fraction=0.5050713793511961\n",
      "[LightGBM] [Warning] boosting is set=dart, boosting_type=gbdt will be ignored. Current value: boosting=dart\n",
      "[LightGBM] [Warning] bagging_fraction is set=0.6660990414129397, subsample=1.0 will be ignored. Current value: bagging_fraction=0.6660990414129397\n",
      "[LightGBM] [Warning] bagging_freq is set=5, subsample_freq=0 will be ignored. Current value: bagging_freq=5\n",
      "[LightGBM] [Warning] feature_fraction is set=0.45836663462677885, colsample_bytree=1.0 will be ignored. Current value: feature_fraction=0.45836663462677885\n",
      "[LightGBM] [Warning] boosting is set=dart, boosting_type=gbdt will be ignored. Current value: boosting=dart\n",
      "[LightGBM] [Warning] bagging_fraction is set=0.4169059297529421, subsample=1.0 will be ignored. Current value: bagging_fraction=0.4169059297529421\n",
      "[LightGBM] [Warning] bagging_freq is set=1, subsample_freq=0 will be ignored. Current value: bagging_freq=1\n",
      "[LightGBM] [Warning] feature_fraction is set=0.65109907985982, colsample_bytree=1.0 will be ignored. Current value: feature_fraction=0.65109907985982\n",
      "[LightGBM] [Warning] boosting is set=dart, boosting_type=gbdt will be ignored. Current value: boosting=dart\n",
      "[LightGBM] [Warning] bagging_fraction is set=0.781455387528108, subsample=1.0 will be ignored. Current value: bagging_fraction=0.781455387528108\n",
      "[LightGBM] [Warning] bagging_freq is set=1, subsample_freq=0 will be ignored. Current value: bagging_freq=1\n",
      "[LightGBM] [Warning] feature_fraction is set=0.41783431722169667, colsample_bytree=1.0 will be ignored. Current value: feature_fraction=0.41783431722169667\n",
      "[LightGBM] [Warning] boosting is set=gbdt, boosting_type=gbdt will be ignored. Current value: boosting=gbdt\n",
      "[LightGBM] [Warning] bagging_fraction is set=0.9214445404044942, subsample=1.0 will be ignored. Current value: bagging_fraction=0.9214445404044942\n",
      "[LightGBM] [Warning] bagging_freq is set=6, subsample_freq=0 will be ignored. Current value: bagging_freq=6\n",
      "[LightGBM] [Warning] feature_fraction is set=0.5050713793511961, colsample_bytree=1.0 will be ignored. Current value: feature_fraction=0.5050713793511961\n",
      "[LightGBM] [Warning] boosting is set=dart, boosting_type=gbdt will be ignored. Current value: boosting=dart\n",
      "[LightGBM] [Warning] bagging_fraction is set=0.6660990414129397, subsample=1.0 will be ignored. Current value: bagging_fraction=0.6660990414129397\n",
      "[LightGBM] [Warning] bagging_freq is set=5, subsample_freq=0 will be ignored. Current value: bagging_freq=5\n",
      "[LightGBM] [Warning] feature_fraction is set=0.45836663462677885, colsample_bytree=1.0 will be ignored. Current value: feature_fraction=0.45836663462677885\n",
      "[LightGBM] [Warning] boosting is set=dart, boosting_type=gbdt will be ignored. Current value: boosting=dart\n",
      "[LightGBM] [Warning] bagging_fraction is set=0.4169059297529421, subsample=1.0 will be ignored. Current value: bagging_fraction=0.4169059297529421\n",
      "[LightGBM] [Warning] bagging_freq is set=1, subsample_freq=0 will be ignored. Current value: bagging_freq=1\n",
      "[LightGBM] [Warning] feature_fraction is set=0.65109907985982, colsample_bytree=1.0 will be ignored. Current value: feature_fraction=0.65109907985982\n",
      "[LightGBM] [Warning] boosting is set=dart, boosting_type=gbdt will be ignored. Current value: boosting=dart\n",
      "[LightGBM] [Warning] bagging_fraction is set=0.781455387528108, subsample=1.0 will be ignored. Current value: bagging_fraction=0.781455387528108\n",
      "[LightGBM] [Warning] bagging_freq is set=1, subsample_freq=0 will be ignored. Current value: bagging_freq=1\n",
      " Accuracy on the test data based on ensemble Approach: 0.5705851423945384\n"
     ]
    }
   ],
   "source": [
    "#Result based on the all the models\n",
    "final_model = VotingClassifier(\n",
    "estimators=[('LR4', lr4_pipeline), ('LR3', lr3_pipeline), ('LR2', lr2_pipeline),('LR1', lr1_pipeline),('HGB4', hgb4_pipeline),('HGB3', hgb3_pipeline),('HGB2', hgb2_pipeline),('HGB1', hgb1_pipeline), ('LGBM4',lgbm4_pipeline), ('LGBM3',lgbm3_pipeline), ('LGBM2',lgbm2_pipeline), ('LGBM1',lgbm1_pipeline)], voting='soft')\n",
    "\n",
    "final_model.fit(X_train_scaled, y_train)\n",
    "combine_result= roc_auc_score(final_model.predict(X_test_scaled),y_test)\n",
    "print(f\" Accuracy on the test data based on ensemble Approach: {roc_auc_score(final_model.predict(X_test_scaled),y_test)}\")\n"
   ]
  },
  {
   "cell_type": "code",
   "execution_count": 38,
   "id": "baa2b400",
   "metadata": {
    "execution": {
     "iopub.execute_input": "2024-04-05T01:11:20.625152Z",
     "iopub.status.busy": "2024-04-05T01:11:20.624761Z",
     "iopub.status.idle": "2024-04-05T01:11:20.680877Z",
     "shell.execute_reply": "2024-04-05T01:11:20.679828Z"
    },
    "papermill": {
     "duration": 0.078979,
     "end_time": "2024-04-05T01:11:20.683081",
     "exception": false,
     "start_time": "2024-04-05T01:11:20.604102",
     "status": "completed"
    },
    "tags": []
   },
   "outputs": [
    {
     "data": {
      "text/html": [
       "<style type=\"text/css\">\n",
       "#T_711a2_row0_col0, #T_711a2_row0_col1, #T_711a2_row1_col0, #T_711a2_row1_col1, #T_711a2_row2_col0, #T_711a2_row2_col1, #T_711a2_row3_col0, #T_711a2_row3_col1 {\n",
       "  border: 1.3px solid blue;\n",
       "  color: grey;\n",
       "}\n",
       "</style>\n",
       "<table id=\"T_711a2\">\n",
       "  <caption>ROC AUC Score based on the Test Data</caption>\n",
       "  <thead>\n",
       "    <tr>\n",
       "      <th class=\"blank level0\" >&nbsp;</th>\n",
       "      <th id=\"T_711a2_level0_col0\" class=\"col_heading level0 col0\" >Modeling Approach</th>\n",
       "      <th id=\"T_711a2_level0_col1\" class=\"col_heading level0 col1\" >ROC AUC Score</th>\n",
       "    </tr>\n",
       "  </thead>\n",
       "  <tbody>\n",
       "    <tr>\n",
       "      <th id=\"T_711a2_level0_row0\" class=\"row_heading level0 row0\" >0</th>\n",
       "      <td id=\"T_711a2_row0_col0\" class=\"data row0 col0\" >Logistic Regression</td>\n",
       "      <td id=\"T_711a2_row0_col1\" class=\"data row0 col1\" >0.555140</td>\n",
       "    </tr>\n",
       "    <tr>\n",
       "      <th id=\"T_711a2_level0_row1\" class=\"row_heading level0 row1\" >1</th>\n",
       "      <td id=\"T_711a2_row1_col0\" class=\"data row1 col0\" >LightGBM</td>\n",
       "      <td id=\"T_711a2_row1_col1\" class=\"data row1 col1\" >0.575931</td>\n",
       "    </tr>\n",
       "    <tr>\n",
       "      <th id=\"T_711a2_level0_row2\" class=\"row_heading level0 row2\" >2</th>\n",
       "      <td id=\"T_711a2_row2_col0\" class=\"data row2 col0\" >Histogram Gradient Boosting</td>\n",
       "      <td id=\"T_711a2_row2_col1\" class=\"data row2 col1\" >0.568156</td>\n",
       "    </tr>\n",
       "    <tr>\n",
       "      <th id=\"T_711a2_level0_row3\" class=\"row_heading level0 row3\" >3</th>\n",
       "      <td id=\"T_711a2_row3_col0\" class=\"data row3 col0\" >Ensemble 3 Models</td>\n",
       "      <td id=\"T_711a2_row3_col1\" class=\"data row3 col1\" >0.570585</td>\n",
       "    </tr>\n",
       "  </tbody>\n",
       "</table>\n"
      ],
      "text/plain": [
       "<pandas.io.formats.style.Styler at 0x7e68b5b41000>"
      ]
     },
     "execution_count": 38,
     "metadata": {},
     "output_type": "execute_result"
    }
   ],
   "source": [
    "Result_Analysis= pd.DataFrame(columns=[\"Modeling Approach\",\"ROC AUC Score\"])\n",
    "Result_Analysis[\"Modeling Approach\"] = [\"Logistic Regression\", \"LightGBM\", \"Histogram Gradient Boosting\", \"Ensemble 3 Models\"]\n",
    "Result_Analysis[\"ROC AUC Score\"] = [lr_result,lgbm_result,hgb_result,combine_result ]\n",
    "Result_Analysis.style.set_caption(\"ROC AUC Score based on the Test Data\").\\\n",
    "set_properties(**{'border': '1.3px solid blue','color': 'grey'})"
   ]
  }
 ],
 "metadata": {
  "kaggle": {
   "accelerator": "none",
   "dataSources": [
    {
     "datasetId": 4387500,
     "sourceId": 7533120,
     "sourceType": "datasetVersion"
    }
   ],
   "dockerImageVersionId": 30664,
   "isGpuEnabled": false,
   "isInternetEnabled": true,
   "language": "python",
   "sourceType": "notebook"
  },
  "kernelspec": {
   "display_name": "Python 3",
   "language": "python",
   "name": "python3"
  },
  "language_info": {
   "codemirror_mode": {
    "name": "ipython",
    "version": 3
   },
   "file_extension": ".py",
   "mimetype": "text/x-python",
   "name": "python",
   "nbconvert_exporter": "python",
   "pygments_lexer": "ipython3",
   "version": "3.10.13"
  },
  "papermill": {
   "default_parameters": {},
   "duration": 257.552035,
   "end_time": "2024-04-05T01:11:22.728882",
   "environment_variables": {},
   "exception": null,
   "input_path": "__notebook__.ipynb",
   "output_path": "__notebook__.ipynb",
   "parameters": {},
   "start_time": "2024-04-05T01:07:05.176847",
   "version": "2.5.0"
  }
 },
 "nbformat": 4,
 "nbformat_minor": 5
}
